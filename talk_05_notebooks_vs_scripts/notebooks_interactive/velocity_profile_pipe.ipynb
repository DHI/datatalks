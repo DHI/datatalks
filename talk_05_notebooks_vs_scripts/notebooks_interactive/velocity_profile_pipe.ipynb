{
 "cells": [
  {
   "cell_type": "markdown",
   "metadata": {},
   "source": [
    "# Berechnungsgrundlagen Rohrströmung\n",
    "\n",
    "maximale Geschwindigkeit in Rohrmitte:\n",
    "\n",
    "$v_{max}$ = $\\frac{(p_1 - p_2)R^2}{4\\mu l}$\n",
    "\n",
    "Variabilität der Geschwindigkeit in Abhängigkeit des Radius:\n",
    "\n",
    "$v(r) = v_{max} (1-\\frac{r^2}{R^2} )$\n",
    "\n",
    "mit\n",
    "\n",
    "- $v_{max}$: maximale Strömung in Rohrmitte\n",
    "- $p_1, p_2$: Drücke am Zu- und Ablauf des Rohres\n",
    "- $\\mu$: Dynamische Viskosität des Fluids\n",
    "- $R$: Radius des Rohres\n",
    "- $l$: Rohrlänge in Metern\n",
    "\n",
    "Die Druckdifferenz zwischen Zu- und Abstrom ($p_1-p_2$) ist im untenstehenden Beispiel dabei als $\\Delta p$ zusammengefasst.\n",
    "\n",
    "**Plotspezifische Variablen**\n",
    "\n",
    "- n spezifiziert zusätzlich die Anzahl an Stützstellen (Punkte des Plots). \n",
    "- xl die x-Achsen Grenzen"
   ]
  },
  {
   "cell_type": "code",
   "execution_count": 1,
   "metadata": {},
   "outputs": [
    {
     "data": {
      "application/vnd.jupyter.widget-view+json": {
       "model_id": "5486d7bb914a42ab8a10c1c818d663e1",
       "version_major": 2,
       "version_minor": 0
      },
      "text/plain": [
       "interactive(children=(FloatSlider(value=5000.0, description='dp', max=10000.0, min=100.0), FloatSlider(value=1…"
      ]
     },
     "metadata": {},
     "output_type": "display_data"
    }
   ],
   "source": [
    "import numpy as np\n",
    "import matplotlib\n",
    "import matplotlib.pyplot as plt\n",
    "from ipywidgets import interact, widgets\n",
    "\n",
    "\n",
    "@interact\n",
    "def plot_pipeflow(dp=widgets.FloatSlider(min=100,max=10000,value=5000),\n",
    "                  mu=widgets.FloatSlider(min=0.1,max=3,value=1),\n",
    "                  R=widgets.FloatSlider(min=0.01,max=5,value=.3),\n",
    "                  l=widgets.IntSlider(min=10,max=200,value=50),\n",
    "                  xl = widgets.IntRangeSlider(min=0,max=30,value=[0,5]),\n",
    "                  n=widgets.IntSlider(min=5,max=500,value=50,continuous_update=False)\n",
    "                 ):\n",
    "    \"\"\"\n",
    "    Funktion zur Darstellung eines Geschwindigkeitsprofils\n",
    "    in einem Rohr mit kreisförmigem Durchmesser  \n",
    "    -----\n",
    "    input:\n",
    "        dp\n",
    "            float, Druckdifferenz zwischen links und rechts in N\n",
    "        mu\n",
    "            float, dyn. Viskosität Ns/m2\n",
    "        R\n",
    "            float, Radius des Rohres\n",
    "        l\n",
    "            float, Rohrlänge in m\n",
    "        xl\n",
    "            tupel mit floats, x-Achsenlimits \n",
    "        n\n",
    "            float, Anzahl der Stützpunkte über Rohrquerschnitt \n",
    "\n",
    "    \"\"\"\n",
    "    # definiere Stützstellen über Rohrdurchmesser\n",
    "    r = np.linspace(-R,R,n)\n",
    "    # Berechne maximale Geschwindigkeit\n",
    "    vmax = (dp)*R**2/(4*mu*l)\n",
    "    # Berechne Verteilung der Geschwindigkeit über Radius\n",
    "    v = vmax*(1-(r**2)/R**2)\n",
    "    t = (dp)*r/(2*l)\n",
    "    \n",
    "    # plot\n",
    "    fig, ax = plt.subplots(1,1,figsize=(8,6))\n",
    "    # zeige \n",
    "    ax.axhline(R,c='k')\n",
    "    ax.axhline(-R,c='k')\n",
    "    ax.axhspan(-R,R,facecolor='gray',alpha=.2)\n",
    "    \n",
    "    # plotte Geschwindigkeitsprofil\n",
    "    ax.scatter(v,r,c=v,cmap='rainbow')\n",
    "    \n",
    "    # Abschließende Plotformattierung\n",
    "    ax.grid()\n",
    "    # setze y-Achsenlimit konstant auf den Radius + 10% dessen\n",
    "    ax.set_ylim(-R-0.1*R,R+0.1*R)\n",
    "    # setze x-Achsenlimit konstant zwischen 0 (keine negativen) und x\n",
    "    ax.set_xlim(xl[0],xl[1])\n",
    "    # Beschrifte\n",
    "    ax.set_xlabel('Geschwindigkeit [m/s]')\n",
    "    ax.set_ylabel('Entfernung von Rohrmitte [m]')\n",
    "    ax.set_title('R='+str(R)+' m'+\n",
    "                 'l='+str(l)+' m'+\n",
    "                 ', $\\Delta p$='+str(dp)+' N'+\n",
    "                 ', $\\mu$='+str(mu)+ ' Ns/m$^2$')"
   ]
  }
 ],
 "metadata": {
  "interpreter": {
   "hash": "d5430395f82a0f5e13dd34c4737d533f0100e89b747c2686126a5ac5b885d463"
  },
  "kernelspec": {
   "display_name": "Python 3.9.7 ('base')",
   "language": "python",
   "name": "python3"
  },
  "language_info": {
   "codemirror_mode": {
    "name": "ipython",
    "version": 3
   },
   "file_extension": ".py",
   "mimetype": "text/x-python",
   "name": "python",
   "nbconvert_exporter": "python",
   "pygments_lexer": "ipython3",
   "version": "3.9.7"
  },
  "orig_nbformat": 4
 },
 "nbformat": 4,
 "nbformat_minor": 2
}
