{
 "cells": [
  {
   "cell_type": "code",
   "execution_count": 12,
   "id": "a222a53e-09d7-42bc-a922-fff6c0bce179",
   "metadata": {},
   "outputs": [],
   "source": [
    "import glob\n",
    "import os"
   ]
  },
  {
   "cell_type": "code",
   "execution_count": 4,
   "id": "2f69d437-490f-4f73-944b-5804d45399a2",
   "metadata": {},
   "outputs": [],
   "source": [
    "folders = glob.glob(\"talk*\")"
   ]
  },
  {
   "cell_type": "code",
   "execution_count": 11,
   "id": "b0f527f9-ac30-4b52-92f5-fc246aac344d",
   "metadata": {},
   "outputs": [
    {
     "name": "stdout",
     "output_type": "stream",
     "text": [
      "talk_05_notebooks_vs_scripts\n",
      "talk_07_mike1d_api_and_mikeio1d\n",
      "talk_11_satellite_imagery\n",
      "talk_09_reusable_code\n",
      "talk_12_fast_webapps\n",
      "talk_02_mikeio\n",
      "talk_06_xarray\n",
      "talk_01_introduction\n"
     ]
    }
   ],
   "source": [
    "for folder in folders:\n",
    "    parts = folder.split(\"_\")\n",
    "    num = int(parts[1])\n",
    "    parts[1] = f\"{num:02}\"\n",
    "    os.rename(\n",
    "    print(\"_\".join(parts))"
   ]
  },
  {
   "cell_type": "code",
   "execution_count": null,
   "id": "6533519c-372c-42a5-ac5f-7694c6644757",
   "metadata": {},
   "outputs": [],
   "source": []
  }
 ],
 "metadata": {
  "kernelspec": {
   "display_name": "Python 3 (ipykernel)",
   "language": "python",
   "name": "python3"
  },
  "language_info": {
   "codemirror_mode": {
    "name": "ipython",
    "version": 3
   },
   "file_extension": ".py",
   "mimetype": "text/x-python",
   "name": "python",
   "nbconvert_exporter": "python",
   "pygments_lexer": "ipython3",
   "version": "3.11.1"
  }
 },
 "nbformat": 4,
 "nbformat_minor": 5
}
