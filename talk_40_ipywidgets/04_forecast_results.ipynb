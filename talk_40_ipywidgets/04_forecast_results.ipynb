{
 "cells": [
  {
   "cell_type": "code",
   "execution_count": 2,
   "metadata": {},
   "outputs": [],
   "source": [
    "import numpy as np\n",
    "import pandas as pd\n",
    "import matplotlib.pyplot as plt\n",
    "import seaborn as sns\n",
    "\n",
    "from darts import TimeSeries\n",
    "from darts.models.forecasting.xgboost import XGBModel\n",
    "from darts.metrics.metrics import rmse\n",
    "from darts.utils.model_selection import train_test_split"
   ]
  },
  {
   "cell_type": "code",
   "execution_count": 7,
   "metadata": {},
   "outputs": [],
   "source": [
    "from japr_data.twinplant import horsens\n",
    "from japr_data.climatedata import dmi_data"
   ]
  },
  {
   "cell_type": "code",
   "execution_count": 16,
   "metadata": {},
   "outputs": [
    {
     "data": {
      "text/html": [
       "<div>\n",
       "<style scoped>\n",
       "    .dataframe tbody tr th:only-of-type {\n",
       "        vertical-align: middle;\n",
       "    }\n",
       "\n",
       "    .dataframe tbody tr th {\n",
       "        vertical-align: top;\n",
       "    }\n",
       "\n",
       "    .dataframe thead th {\n",
       "        text-align: right;\n",
       "    }\n",
       "</style>\n",
       "<table border=\"1\" class=\"dataframe\">\n",
       "  <thead>\n",
       "    <tr style=\"text-align: right;\">\n",
       "      <th></th>\n",
       "      <th>flow</th>\n",
       "      <th>acc_precip</th>\n",
       "      <th>mean_radiation</th>\n",
       "      <th>mean_temp</th>\n",
       "    </tr>\n",
       "    <tr>\n",
       "      <th>time</th>\n",
       "      <th></th>\n",
       "      <th></th>\n",
       "      <th></th>\n",
       "      <th></th>\n",
       "    </tr>\n",
       "  </thead>\n",
       "  <tbody>\n",
       "    <tr>\n",
       "      <th>2023-11-07 00:00:00+00:00</th>\n",
       "      <td>2537.061000</td>\n",
       "      <td>4.6</td>\n",
       "      <td>937.0</td>\n",
       "      <td>8.366667</td>\n",
       "    </tr>\n",
       "    <tr>\n",
       "      <th>2023-11-08 00:00:00+00:00</th>\n",
       "      <td>1988.173274</td>\n",
       "      <td>1.8</td>\n",
       "      <td>0.0</td>\n",
       "      <td>8.285714</td>\n",
       "    </tr>\n",
       "    <tr>\n",
       "      <th>2023-11-09 00:00:00+00:00</th>\n",
       "      <td>3005.526184</td>\n",
       "      <td>5.8</td>\n",
       "      <td>337.0</td>\n",
       "      <td>8.530000</td>\n",
       "    </tr>\n",
       "    <tr>\n",
       "      <th>2023-11-10 00:00:00+00:00</th>\n",
       "      <td>3490.331014</td>\n",
       "      <td>4.2</td>\n",
       "      <td>689.0</td>\n",
       "      <td>7.275000</td>\n",
       "    </tr>\n",
       "    <tr>\n",
       "      <th>2023-11-14 00:00:00+00:00</th>\n",
       "      <td>3194.873297</td>\n",
       "      <td>2.8</td>\n",
       "      <td>266.7</td>\n",
       "      <td>5.277778</td>\n",
       "    </tr>\n",
       "  </tbody>\n",
       "</table>\n",
       "</div>"
      ],
      "text/plain": [
       "                                  flow  acc_precip  mean_radiation  mean_temp\n",
       "time                                                                         \n",
       "2023-11-07 00:00:00+00:00  2537.061000         4.6           937.0   8.366667\n",
       "2023-11-08 00:00:00+00:00  1988.173274         1.8             0.0   8.285714\n",
       "2023-11-09 00:00:00+00:00  3005.526184         5.8           337.0   8.530000\n",
       "2023-11-10 00:00:00+00:00  3490.331014         4.2           689.0   7.275000\n",
       "2023-11-14 00:00:00+00:00  3194.873297         2.8           266.7   5.277778"
      ]
     },
     "execution_count": 16,
     "metadata": {},
     "output_type": "execute_result"
    }
   ],
   "source": [
    "horsens.index.name = \"time\"\n",
    "data = (\n",
    "    horsens.merge(dmi_data(\"horsens\"), left_index=True, right_index=True, how=\"inner\")\n",
    "    .rename(columns={\"FB20F11_81\": \"flow\"})\n",
    "    .iloc[2:,]\n",
    "    .resample(\"1D\", closed=\"right\")\n",
    "    .agg(\n",
    "        {\n",
    "            \"flow\": \"mean\",\n",
    "            \"acc_precip\": \"sum\",\n",
    "            \"mean_radiation\": \"sum\",\n",
    "            \"mean_temp\": \"mean\",\n",
    "        }\n",
    "    )\n",
    "    .dropna()\n",
    ")\n",
    "data.head()"
   ]
  },
  {
   "cell_type": "code",
   "execution_count": 20,
   "metadata": {},
   "outputs": [
    {
     "name": "stderr",
     "output_type": "stream",
     "text": [
      "The provided DatetimeIndex was associated with a timezone, which is currently not supported by xarray. To avoid unexpected behaviour, the tz information was removed. Consider calling `ts.time_index.tz_localize(UTC)` when exporting the results.To plot the series with the right time steps, consider setting the matplotlib.pyplot `rcParams['timezone']` parameter to automatically convert the time axis back to the original timezone.\n"
     ]
    }
   ],
   "source": [
    "ts = TimeSeries.from_dataframe(data, freq=\"D\").longest_contiguous_slice()\n",
    "\n",
    "flow = ts[\"flow\"]\n",
    "ambient_covariates = ts[[\"acc_precip\", \"mean_temp\", \"mean_radiation\"]]\n",
    "\n",
    "train, test = train_test_split(flow)\n",
    "test_idx = test.time_index\n",
    "train_idx = train.time_index"
   ]
  },
  {
   "cell_type": "code",
   "execution_count": 70,
   "metadata": {},
   "outputs": [],
   "source": [
    "encoders = {\n",
    "    \"datetime_attribute\": {\"future\": \"dayofweek\"},\n",
    "    \"cyclic\": {\"future\": \"month\"},\n",
    "}\n",
    "n_lags = 7\n",
    "horizon = 10\n",
    "xgb = XGBModel(\n",
    "    lags=7,\n",
    "    lags_past_covariates=n_lags,\n",
    "    lags_future_covariates=(0, 1),\n",
    "    output_chunk_length=horizon,\n",
    "    add_encoders=encoders,\n",
    ").fit(train, past_covariates=ambient_covariates)"
   ]
  },
  {
   "cell_type": "markdown",
   "metadata": {},
   "source": [
    "The selected dates should be between:"
   ]
  },
  {
   "cell_type": "code",
   "execution_count": null,
   "metadata": {},
   "outputs": [
    {
     "data": {
      "text/plain": [
       "(Timestamp('2025-01-02 00:00:00'), Timestamp('2025-02-17 00:00:00'))"
      ]
     },
     "execution_count": 86,
     "metadata": {},
     "output_type": "execute_result"
    }
   ],
   "source": [
    "test.time_index[0], test.time_index[-1]"
   ]
  },
  {
   "cell_type": "code",
   "execution_count": null,
   "metadata": {},
   "outputs": [
    {
     "data": {
      "application/vnd.jupyter.widget-view+json": {
       "model_id": "e9550058004e41a5b9c77deb035b8002",
       "version_major": 2,
       "version_minor": 0
      },
      "text/plain": [
       "interactive(children=(DatePicker(value=datetime.date(2025, 2, 4), description='Start date', step=1, tooltip='S…"
      ]
     },
     "metadata": {},
     "output_type": "display_data"
    }
   ],
   "source": [
    "from ipywidgets import DatePicker, Checkbox, interact\n",
    "from datetime import date\n",
    "\n",
    "date_picker = DatePicker(\n",
    "    value=date(2025, 2, 4),\n",
    "    description=\"Start date\",\n",
    "    tooltip=\"Starting date of the forecast\",\n",
    ")\n",
    "fix_axis = Checkbox(value=False, description=\"Fix axes\")\n",
    "\n",
    "\n",
    "@interact(date=date_picker, fixed_axis=fix_axis)\n",
    "def plot_prediction_comparison(date, fixed_axis):\n",
    "    date = pd.Timestamp(date)\n",
    "    prior_series, _ = ts[\"flow\"].split_before(date)\n",
    "\n",
    "    actual = ts.slice(\n",
    "        date - pd.Timedelta(5, unit=\"D\"), date + pd.Timedelta(horizon, unit=\"D\")\n",
    "    )\n",
    "    predicted = xgb.predict(\n",
    "        horizon, series=prior_series, past_covariates=ambient_covariates\n",
    "    )\n",
    "\n",
    "    fig, ax = plt.subplots(1, 1, figsize=(8, 4))\n",
    "    actual[\"flow\"].plot(label=\"Actual\", ax=ax)\n",
    "    predicted.plot(label=\"predicted\", ax=ax)\n",
    "    if fixed_axis:\n",
    "        ax.set_xlim(pd.Timestamp(\"01-31-2025\"), pd.Timestamp(\"02-13-2025\"))\n",
    "        ax.set_ylim(800, 2000)\n",
    "        ax.axvline(x=pd.Timestamp(\"02-07-2025\"), c=\"orange\")\n",
    "    plt.legend(frameon=False)\n",
    "    plt.show()"
   ]
  }
 ],
 "metadata": {
  "kernelspec": {
   "display_name": ".venv",
   "language": "python",
   "name": "python3"
  },
  "language_info": {
   "codemirror_mode": {
    "name": "ipython",
    "version": 3
   },
   "file_extension": ".py",
   "mimetype": "text/x-python",
   "name": "python",
   "nbconvert_exporter": "python",
   "pygments_lexer": "ipython3",
   "version": "3.12.5"
  }
 },
 "nbformat": 4,
 "nbformat_minor": 2
}
