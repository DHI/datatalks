{
 "cells": [
  {
   "cell_type": "code",
   "execution_count": 13,
   "metadata": {},
   "outputs": [],
   "source": [
    "import pandas as pd\n",
    "import seaborn as sns\n",
    "\n",
    "import ipywidgets as widgets\n",
    "from ipywidgets import interact\n",
    "\n",
    "import matplotlib.pyplot as plt\n"
   ]
  },
  {
   "cell_type": "code",
   "execution_count": 25,
   "metadata": {},
   "outputs": [
    {
     "data": {
      "text/html": [
       "<div>\n",
       "<style scoped>\n",
       "    .dataframe tbody tr th:only-of-type {\n",
       "        vertical-align: middle;\n",
       "    }\n",
       "\n",
       "    .dataframe tbody tr th {\n",
       "        vertical-align: top;\n",
       "    }\n",
       "\n",
       "    .dataframe thead th {\n",
       "        text-align: right;\n",
       "    }\n",
       "</style>\n",
       "<table border=\"1\" class=\"dataframe\">\n",
       "  <thead>\n",
       "    <tr style=\"text-align: right;\">\n",
       "      <th></th>\n",
       "      <th>consumption</th>\n",
       "      <th>real_consumption</th>\n",
       "      <th>temperature</th>\n",
       "      <th>sunshine</th>\n",
       "      <th>precipitation</th>\n",
       "      <th>irrigation-ban</th>\n",
       "    </tr>\n",
       "  </thead>\n",
       "  <tbody>\n",
       "    <tr>\n",
       "      <th>2020-01-14</th>\n",
       "      <td>12658.0</td>\n",
       "      <td>12658.0</td>\n",
       "      <td>6.633333</td>\n",
       "      <td>0.000000</td>\n",
       "      <td>7.2</td>\n",
       "      <td>0.0</td>\n",
       "    </tr>\n",
       "    <tr>\n",
       "      <th>2020-01-15</th>\n",
       "      <td>12576.0</td>\n",
       "      <td>12576.0</td>\n",
       "      <td>7.950000</td>\n",
       "      <td>0.000000</td>\n",
       "      <td>0.8</td>\n",
       "      <td>0.0</td>\n",
       "    </tr>\n",
       "    <tr>\n",
       "      <th>2020-01-16</th>\n",
       "      <td>12686.0</td>\n",
       "      <td>12686.0</td>\n",
       "      <td>7.029167</td>\n",
       "      <td>0.371111</td>\n",
       "      <td>0.0</td>\n",
       "      <td>0.0</td>\n",
       "    </tr>\n",
       "    <tr>\n",
       "      <th>2020-01-17</th>\n",
       "      <td>13024.0</td>\n",
       "      <td>13024.0</td>\n",
       "      <td>6.670833</td>\n",
       "      <td>0.755556</td>\n",
       "      <td>3.4</td>\n",
       "      <td>0.0</td>\n",
       "    </tr>\n",
       "    <tr>\n",
       "      <th>2020-01-18</th>\n",
       "      <td>13090.0</td>\n",
       "      <td>13090.0</td>\n",
       "      <td>6.362500</td>\n",
       "      <td>0.000000</td>\n",
       "      <td>1.3</td>\n",
       "      <td>0.0</td>\n",
       "    </tr>\n",
       "  </tbody>\n",
       "</table>\n",
       "</div>"
      ],
      "text/plain": [
       "            consumption  real_consumption  temperature  sunshine  \\\n",
       "2020-01-14      12658.0           12658.0     6.633333  0.000000   \n",
       "2020-01-15      12576.0           12576.0     7.950000  0.000000   \n",
       "2020-01-16      12686.0           12686.0     7.029167  0.371111   \n",
       "2020-01-17      13024.0           13024.0     6.670833  0.755556   \n",
       "2020-01-18      13090.0           13090.0     6.362500  0.000000   \n",
       "\n",
       "            precipitation  irrigation-ban  \n",
       "2020-01-14            7.2             0.0  \n",
       "2020-01-15            0.8             0.0  \n",
       "2020-01-16            0.0             0.0  \n",
       "2020-01-17            3.4             0.0  \n",
       "2020-01-18            1.3             0.0  "
      ]
     },
     "execution_count": 25,
     "metadata": {},
     "output_type": "execute_result"
    }
   ],
   "source": [
    "data = pd.read_csv(\"data.csv\", parse_dates=True, index_col=0)\n",
    "data.head()"
   ]
  },
  {
   "cell_type": "code",
   "execution_count": null,
   "metadata": {},
   "outputs": [
    {
     "data": {
      "application/vnd.jupyter.widget-view+json": {
       "model_id": "418840d1ef5342c9a020b7180964f75d",
       "version_major": 2,
       "version_minor": 0
      },
      "text/plain": [
       "SelectMultiple(description='Variables:', index=(1, 2), options=('temperature', 'sunshine', 'precipitation'), v…"
      ]
     },
     "metadata": {},
     "output_type": "display_data"
    }
   ],
   "source": [
    "features = [\"temperature\", \"sunshine\", \"precipitation\"]\n",
    "feature_selector = widgets.SelectMultiple(\n",
    "    options=features,\n",
    "    value=features[1:],\n",
    "    description='Variables:',\n",
    ")\n",
    "\n",
    "freqs = [\"D\", \"W\", \"2W\", \"ME\"]\n",
    "freq_selector = widgets.RadioButtons(\n",
    "    options=freqs,\n",
    "    description='Temporal resolution:',\n",
    "    disabled=False,\n",
    "    orientation='horizontal',\n",
    ")\n",
    "\n",
    "display(feature_selector)"
   ]
  },
  {
   "cell_type": "code",
   "execution_count": null,
   "metadata": {},
   "outputs": [
    {
     "data": {
      "application/vnd.jupyter.widget-view+json": {
       "model_id": "d149250df487486a8047e3e659a78e83",
       "version_major": 2,
       "version_minor": 0
      },
      "text/plain": [
       "interactive(children=(RadioButtons(description='Temporal resolution:', index=2, options=('D', 'W', '2W', 'ME')…"
      ]
     },
     "metadata": {},
     "output_type": "display_data"
    }
   ],
   "source": [
    "def select_and_resample(freq, features):\n",
    "    resample_dict = {\"real_consumption\":\"sum\", \"sunshine\": \"mean\", \"temperature\": \"mean\", \"precipitation\": \"sum\"}\n",
    "    vars = [\"real_consumption\"] + features\n",
    "    return data.loc[:, vars].resample(freq).agg({k:v for k, v in resample_dict.items() if k in vars})\n",
    "\n",
    "hue_options = set(features).difference(set(feature_selector.value))\n",
    "hue_picker = widgets.ToggleButtons(\n",
    "    options=hue_options,\n",
    "    description='Hue:',\n",
    ")\n",
    "\n",
    "\n",
    "@interact(freq = freq_selector, hue = hue_picker)\n",
    "def make_pairplot(freq, hue):\n",
    "    if hue is not None:\n",
    "        additional_features = list(feature_selector.value) + [hue]\n",
    "    else:\n",
    "        additional_features = list(feature_selector.value)\n",
    "    resampled_data = select_and_resample(freq, additional_features)\n",
    "    sns.pairplot(resampled_data, hue=hue)"
   ]
  },
  {
   "cell_type": "code",
   "execution_count": 28,
   "metadata": {},
   "outputs": [
    {
     "data": {
      "text/html": [
       "<div>\n",
       "<style scoped>\n",
       "    .dataframe tbody tr th:only-of-type {\n",
       "        vertical-align: middle;\n",
       "    }\n",
       "\n",
       "    .dataframe tbody tr th {\n",
       "        vertical-align: top;\n",
       "    }\n",
       "\n",
       "    .dataframe thead th {\n",
       "        text-align: right;\n",
       "    }\n",
       "</style>\n",
       "<table border=\"1\" class=\"dataframe\">\n",
       "  <thead>\n",
       "    <tr style=\"text-align: right;\">\n",
       "      <th></th>\n",
       "      <th>real_consumption</th>\n",
       "      <th>sunshine</th>\n",
       "      <th>temperature</th>\n",
       "      <th>precipitation</th>\n",
       "    </tr>\n",
       "  </thead>\n",
       "  <tbody>\n",
       "    <tr>\n",
       "      <th>count</th>\n",
       "      <td>210.000000</td>\n",
       "      <td>210.000000</td>\n",
       "      <td>210.000000</td>\n",
       "      <td>210.000000</td>\n",
       "    </tr>\n",
       "    <tr>\n",
       "      <th>mean</th>\n",
       "      <td>104269.199573</td>\n",
       "      <td>5.112630</td>\n",
       "      <td>9.598096</td>\n",
       "      <td>14.995238</td>\n",
       "    </tr>\n",
       "    <tr>\n",
       "      <th>std</th>\n",
       "      <td>11226.240640</td>\n",
       "      <td>3.791136</td>\n",
       "      <td>6.889655</td>\n",
       "      <td>16.558609</td>\n",
       "    </tr>\n",
       "    <tr>\n",
       "      <th>min</th>\n",
       "      <td>77255.000000</td>\n",
       "      <td>0.000000</td>\n",
       "      <td>-7.133333</td>\n",
       "      <td>0.000000</td>\n",
       "    </tr>\n",
       "    <tr>\n",
       "      <th>25%</th>\n",
       "      <td>96856.704459</td>\n",
       "      <td>1.905714</td>\n",
       "      <td>4.043750</td>\n",
       "      <td>2.425000</td>\n",
       "    </tr>\n",
       "    <tr>\n",
       "      <th>50%</th>\n",
       "      <td>101247.549252</td>\n",
       "      <td>4.237996</td>\n",
       "      <td>9.431250</td>\n",
       "      <td>9.050000</td>\n",
       "    </tr>\n",
       "    <tr>\n",
       "      <th>75%</th>\n",
       "      <td>108624.166546</td>\n",
       "      <td>7.813423</td>\n",
       "      <td>15.905655</td>\n",
       "      <td>22.975000</td>\n",
       "    </tr>\n",
       "    <tr>\n",
       "      <th>max</th>\n",
       "      <td>145413.000000</td>\n",
       "      <td>15.726905</td>\n",
       "      <td>23.216667</td>\n",
       "      <td>99.200000</td>\n",
       "    </tr>\n",
       "  </tbody>\n",
       "</table>\n",
       "</div>"
      ],
      "text/plain": [
       "       real_consumption    sunshine  temperature  precipitation\n",
       "count        210.000000  210.000000   210.000000     210.000000\n",
       "mean      104269.199573    5.112630     9.598096      14.995238\n",
       "std        11226.240640    3.791136     6.889655      16.558609\n",
       "min        77255.000000    0.000000    -7.133333       0.000000\n",
       "25%        96856.704459    1.905714     4.043750       2.425000\n",
       "50%       101247.549252    4.237996     9.431250       9.050000\n",
       "75%       108624.166546    7.813423    15.905655      22.975000\n",
       "max       145413.000000   15.726905    23.216667      99.200000"
      ]
     },
     "execution_count": 28,
     "metadata": {},
     "output_type": "execute_result"
    }
   ],
   "source": [
    "features = list(feature_selector.value) + [hue_picker.value]\n",
    "selected_data = select_and_resample(freq_selector.value, features)\n",
    "selected_data.describe()"
   ]
  },
  {
   "cell_type": "code",
   "execution_count": null,
   "metadata": {},
   "outputs": [
    {
     "data": {
      "application/vnd.jupyter.widget-view+json": {
       "model_id": "5e649280f9db456c8a414b2f63172eae",
       "version_major": 2,
       "version_minor": 0
      },
      "text/plain": [
       "interactive(children=(FloatRangeSlider(value=(0.5, 15.5), description='temp_cutoff', max=23.0, min=-7.0, reado…"
      ]
     },
     "metadata": {},
     "output_type": "display_data"
    }
   ],
   "source": [
    "datplot = selected_data.loc[selected_data[\"precipitation\"] < 40, :]\n",
    "\n",
    "temp_selector = widgets.FloatRangeSlider(min=-7, max=23, readout_format='.1f')\n",
    "\n",
    "@interact()\n",
    "def plot_reg_by_temperature(temp_cutoff = temp_selector):\n",
    "    fig, ax = plt.subplots(1, 1, figsize=(8, 6))\n",
    "    sns.scatterplot(datplot, x=\"precipitation\", y=\"real_consumption\", ax=ax, alpha=0.3)\n",
    "    sns.regplot(datplot.loc[datplot[\"temperature\"].between(*temp_cutoff),:], x=\"precipitation\", y=\"real_consumption\", ax=ax, scatter_kws=dict(alpha=0))"
   ]
  }
 ],
 "metadata": {
  "kernelspec": {
   "display_name": ".venv",
   "language": "python",
   "name": "python3"
  },
  "language_info": {
   "codemirror_mode": {
    "name": "ipython",
    "version": 3
   },
   "file_extension": ".py",
   "mimetype": "text/x-python",
   "name": "python",
   "nbconvert_exporter": "python",
   "pygments_lexer": "ipython3",
   "version": "3.12.5"
  }
 },
 "nbformat": 4,
 "nbformat_minor": 2
}
