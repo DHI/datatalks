{
 "cells": [
  {
   "cell_type": "code",
   "execution_count": 1,
   "metadata": {},
   "outputs": [],
   "source": [
    "import pandas as pd\n",
    "import seaborn as sns\n",
    "\n",
    "import ipywidgets as widgets\n",
    "from ipywidgets import interact\n",
    "\n",
    "import matplotlib.pyplot as plt"
   ]
  },
  {
   "cell_type": "code",
   "execution_count": 2,
   "metadata": {},
   "outputs": [
    {
     "data": {
      "text/html": [
       "<div>\n",
       "<style scoped>\n",
       "    .dataframe tbody tr th:only-of-type {\n",
       "        vertical-align: middle;\n",
       "    }\n",
       "\n",
       "    .dataframe tbody tr th {\n",
       "        vertical-align: top;\n",
       "    }\n",
       "\n",
       "    .dataframe thead th {\n",
       "        text-align: right;\n",
       "    }\n",
       "</style>\n",
       "<table border=\"1\" class=\"dataframe\">\n",
       "  <thead>\n",
       "    <tr style=\"text-align: right;\">\n",
       "      <th></th>\n",
       "      <th>flow</th>\n",
       "      <th>acc_precip</th>\n",
       "      <th>mean_radiation</th>\n",
       "      <th>mean_temp</th>\n",
       "    </tr>\n",
       "    <tr>\n",
       "      <th>time</th>\n",
       "      <th></th>\n",
       "      <th></th>\n",
       "      <th></th>\n",
       "      <th></th>\n",
       "    </tr>\n",
       "  </thead>\n",
       "  <tbody>\n",
       "    <tr>\n",
       "      <th>2023-11-07 00:00:00+00:00</th>\n",
       "      <td>2537.061000</td>\n",
       "      <td>4.6</td>\n",
       "      <td>937.0</td>\n",
       "      <td>8.366667</td>\n",
       "    </tr>\n",
       "    <tr>\n",
       "      <th>2023-11-08 00:00:00+00:00</th>\n",
       "      <td>1988.173274</td>\n",
       "      <td>1.8</td>\n",
       "      <td>0.0</td>\n",
       "      <td>8.285714</td>\n",
       "    </tr>\n",
       "    <tr>\n",
       "      <th>2023-11-09 00:00:00+00:00</th>\n",
       "      <td>3005.526184</td>\n",
       "      <td>5.8</td>\n",
       "      <td>337.0</td>\n",
       "      <td>8.530000</td>\n",
       "    </tr>\n",
       "    <tr>\n",
       "      <th>2023-11-10 00:00:00+00:00</th>\n",
       "      <td>3490.331014</td>\n",
       "      <td>4.2</td>\n",
       "      <td>689.0</td>\n",
       "      <td>7.275000</td>\n",
       "    </tr>\n",
       "    <tr>\n",
       "      <th>2023-11-14 00:00:00+00:00</th>\n",
       "      <td>3194.873297</td>\n",
       "      <td>2.8</td>\n",
       "      <td>266.7</td>\n",
       "      <td>5.277778</td>\n",
       "    </tr>\n",
       "  </tbody>\n",
       "</table>\n",
       "</div>"
      ],
      "text/plain": [
       "                                  flow  acc_precip  mean_radiation  mean_temp\n",
       "time                                                                         \n",
       "2023-11-07 00:00:00+00:00  2537.061000         4.6           937.0   8.366667\n",
       "2023-11-08 00:00:00+00:00  1988.173274         1.8             0.0   8.285714\n",
       "2023-11-09 00:00:00+00:00  3005.526184         5.8           337.0   8.530000\n",
       "2023-11-10 00:00:00+00:00  3490.331014         4.2           689.0   7.275000\n",
       "2023-11-14 00:00:00+00:00  3194.873297         2.8           266.7   5.277778"
      ]
     },
     "execution_count": 2,
     "metadata": {},
     "output_type": "execute_result"
    }
   ],
   "source": [
    "data = pd.read_csv(\"data.csv\", parse_dates=True, index_col=0)\n",
    "data.head()"
   ]
  },
  {
   "cell_type": "code",
   "execution_count": 3,
   "metadata": {},
   "outputs": [
    {
     "data": {
      "application/vnd.jupyter.widget-view+json": {
       "model_id": "196dad7919d14bf794e6c3d42c8ae9b2",
       "version_major": 2,
       "version_minor": 0
      },
      "text/plain": [
       "SelectMultiple(description='Variables:', index=(1, 2), options=('mean_radiation', 'mean_temp', 'acc_precip'), …"
      ]
     },
     "metadata": {},
     "output_type": "display_data"
    }
   ],
   "source": [
    "features = [\"mean_radiation\", \"mean_temp\", \"acc_precip\"]\n",
    "feature_selector = widgets.SelectMultiple(\n",
    "    options=features,\n",
    "    value=features[1:],\n",
    "    description=\"Variables:\",\n",
    ")\n",
    "\n",
    "freqs = [\"D\", \"W\", \"2W\", \"ME\"]\n",
    "freq_selector = widgets.RadioButtons(\n",
    "    options=freqs,\n",
    "    description=\"Temporal resolution:\",\n",
    "    disabled=False,\n",
    "    orientation=\"horizontal\",\n",
    ")\n",
    "\n",
    "display(feature_selector)"
   ]
  },
  {
   "cell_type": "code",
   "execution_count": 4,
   "metadata": {},
   "outputs": [
    {
     "data": {
      "application/vnd.jupyter.widget-view+json": {
       "model_id": "380c70738b994bbf9710b178e4239f28",
       "version_major": 2,
       "version_minor": 0
      },
      "text/plain": [
       "interactive(children=(RadioButtons(description='Temporal resolution:', options=('D', 'W', '2W', 'ME'), orienta…"
      ]
     },
     "metadata": {},
     "output_type": "display_data"
    }
   ],
   "source": [
    "def select_and_resample(freq, features):\n",
    "    resample_dict = {\n",
    "        \"flow\": \"sum\",\n",
    "        \"mean_radiation\": \"mean\",\n",
    "        \"mean_temp\": \"mean\",\n",
    "        \"acc_precip\": \"sum\",\n",
    "    }\n",
    "    vars = [\"flow\"] + features\n",
    "    return (\n",
    "        data.loc[:, vars]\n",
    "        .resample(freq)\n",
    "        .agg({k: v for k, v in resample_dict.items() if k in vars})\n",
    "    )\n",
    "\n",
    "\n",
    "hue_options = set(features).difference(set(feature_selector.value))\n",
    "hue_picker = widgets.ToggleButtons(\n",
    "    options=hue_options,\n",
    "    description=\"Hue:\",\n",
    ")\n",
    "\n",
    "\n",
    "@interact(freq=freq_selector, hue=hue_picker)\n",
    "def make_pairplot(freq, hue):\n",
    "    if hue is not None:\n",
    "        additional_features = list(feature_selector.value) + [hue]\n",
    "    else:\n",
    "        additional_features = list(feature_selector.value)\n",
    "    resampled_data = select_and_resample(freq, additional_features)\n",
    "    sns.pairplot(resampled_data, hue=hue)"
   ]
  },
  {
   "cell_type": "code",
   "execution_count": 5,
   "metadata": {},
   "outputs": [
    {
     "data": {
      "text/html": [
       "<div>\n",
       "<style scoped>\n",
       "    .dataframe tbody tr th:only-of-type {\n",
       "        vertical-align: middle;\n",
       "    }\n",
       "\n",
       "    .dataframe tbody tr th {\n",
       "        vertical-align: top;\n",
       "    }\n",
       "\n",
       "    .dataframe thead th {\n",
       "        text-align: right;\n",
       "    }\n",
       "</style>\n",
       "<table border=\"1\" class=\"dataframe\">\n",
       "  <thead>\n",
       "    <tr style=\"text-align: right;\">\n",
       "      <th></th>\n",
       "      <th>flow</th>\n",
       "      <th>mean_radiation</th>\n",
       "      <th>mean_temp</th>\n",
       "      <th>acc_precip</th>\n",
       "    </tr>\n",
       "  </thead>\n",
       "  <tbody>\n",
       "    <tr>\n",
       "      <th>count</th>\n",
       "      <td>469.000000</td>\n",
       "      <td>441.000000</td>\n",
       "      <td>441.000000</td>\n",
       "      <td>469.000000</td>\n",
       "    </tr>\n",
       "    <tr>\n",
       "      <th>mean</th>\n",
       "      <td>1466.120824</td>\n",
       "      <td>2316.382313</td>\n",
       "      <td>8.011601</td>\n",
       "      <td>2.470576</td>\n",
       "    </tr>\n",
       "    <tr>\n",
       "      <th>std</th>\n",
       "      <td>810.954606</td>\n",
       "      <td>2319.086878</td>\n",
       "      <td>5.928460</td>\n",
       "      <td>5.290488</td>\n",
       "    </tr>\n",
       "    <tr>\n",
       "      <th>min</th>\n",
       "      <td>0.000000</td>\n",
       "      <td>0.000000</td>\n",
       "      <td>-7.421429</td>\n",
       "      <td>0.000000</td>\n",
       "    </tr>\n",
       "    <tr>\n",
       "      <th>25%</th>\n",
       "      <td>989.205031</td>\n",
       "      <td>389.000000</td>\n",
       "      <td>3.708333</td>\n",
       "      <td>0.000000</td>\n",
       "    </tr>\n",
       "    <tr>\n",
       "      <th>50%</th>\n",
       "      <td>1268.577611</td>\n",
       "      <td>1307.000000</td>\n",
       "      <td>7.325000</td>\n",
       "      <td>0.100000</td>\n",
       "    </tr>\n",
       "    <tr>\n",
       "      <th>75%</th>\n",
       "      <td>1768.471276</td>\n",
       "      <td>3981.000000</td>\n",
       "      <td>13.295833</td>\n",
       "      <td>2.600000</td>\n",
       "    </tr>\n",
       "    <tr>\n",
       "      <th>max</th>\n",
       "      <td>5354.692318</td>\n",
       "      <td>8607.000000</td>\n",
       "      <td>20.887500</td>\n",
       "      <td>45.900000</td>\n",
       "    </tr>\n",
       "  </tbody>\n",
       "</table>\n",
       "</div>"
      ],
      "text/plain": [
       "              flow  mean_radiation   mean_temp  acc_precip\n",
       "count   469.000000      441.000000  441.000000  469.000000\n",
       "mean   1466.120824     2316.382313    8.011601    2.470576\n",
       "std     810.954606     2319.086878    5.928460    5.290488\n",
       "min       0.000000        0.000000   -7.421429    0.000000\n",
       "25%     989.205031      389.000000    3.708333    0.000000\n",
       "50%    1268.577611     1307.000000    7.325000    0.100000\n",
       "75%    1768.471276     3981.000000   13.295833    2.600000\n",
       "max    5354.692318     8607.000000   20.887500   45.900000"
      ]
     },
     "execution_count": 5,
     "metadata": {},
     "output_type": "execute_result"
    }
   ],
   "source": [
    "features = list(feature_selector.value) + [hue_picker.value]\n",
    "selected_data = select_and_resample(freq_selector.value, features)\n",
    "selected_data.describe()"
   ]
  },
  {
   "cell_type": "code",
   "execution_count": 6,
   "metadata": {},
   "outputs": [
    {
     "data": {
      "application/vnd.jupyter.widget-view+json": {
       "model_id": "affe6c39b25d4bc8a90a52909c93f018",
       "version_major": 2,
       "version_minor": 0
      },
      "text/plain": [
       "interactive(children=(FloatRangeSlider(value=(0.5, 15.5), description='temp_cutoff', max=23.0, min=-7.0, reado…"
      ]
     },
     "metadata": {},
     "output_type": "display_data"
    }
   ],
   "source": [
    "datplot = selected_data.loc[selected_data[\"acc_precip\"] < 40, :]\n",
    "\n",
    "temp_selector = widgets.FloatRangeSlider(min=-7, max=23, readout_format=\".1f\")\n",
    "\n",
    "\n",
    "@interact()\n",
    "def plot_reg_by_temperature(temp_cutoff=temp_selector):\n",
    "    fig, ax = plt.subplots(1, 1, figsize=(8, 6))\n",
    "    sns.scatterplot(datplot, x=\"acc_precip\", y=\"flow\", ax=ax, alpha=0.3)\n",
    "    sns.regplot(\n",
    "        datplot.loc[datplot[\"mean_temp\"].between(*temp_cutoff), :],\n",
    "        x=\"acc_precip\",\n",
    "        y=\"flow\",\n",
    "        ax=ax,\n",
    "        scatter_kws=dict(alpha=0),\n",
    "    )"
   ]
  }
 ],
 "metadata": {
  "kernelspec": {
   "display_name": ".venv",
   "language": "python",
   "name": "python3"
  },
  "language_info": {
   "codemirror_mode": {
    "name": "ipython",
    "version": 3
   },
   "file_extension": ".py",
   "mimetype": "text/x-python",
   "name": "python",
   "nbconvert_exporter": "python",
   "pygments_lexer": "ipython3",
   "version": "3.12.5"
  }
 },
 "nbformat": 4,
 "nbformat_minor": 2
}
