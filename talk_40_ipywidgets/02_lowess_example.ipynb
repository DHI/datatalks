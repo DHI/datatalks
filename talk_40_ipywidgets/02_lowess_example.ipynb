{
 "cells": [
  {
   "cell_type": "code",
   "execution_count": null,
   "metadata": {},
   "outputs": [
    {
     "data": {
      "application/vnd.jupyter.widget-view+json": {
       "model_id": "b652611646a34e5fa9fa0dd0db8beb5f",
       "version_major": 2,
       "version_minor": 0
      },
      "text/plain": [
       "interactive(children=(FloatSlider(value=0.5, description='Fraction', max=0.999, min=0.001), ColorPicker(value=…"
      ]
     },
     "metadata": {},
     "output_type": "display_data"
    }
   ],
   "source": [
    "import numpy as np\n",
    "import matplotlib.pyplot as plt\n",
    "import statsmodels.api as sm\n",
    "\n",
    "from ipywidgets import interact, FloatSlider, ColorPicker\n",
    "\n",
    "\n",
    "# Define the cubic polynomial function\n",
    "def nonlinear_function(x, a=1, b=10, c=4):\n",
    "    return a * x**3 + b * np.sin(10 * x**2) + 1 / np.log(c * x**2)\n",
    "\n",
    "\n",
    "n_points = 500\n",
    "noise = np.random.normal(0, 120, n_points)\n",
    "x = np.linspace(-10, 10, n_points)\n",
    "y = nonlinear_function(x) + noise\n",
    "\n",
    "frac_value = FloatSlider(\n",
    "    min=1e-3,\n",
    "    max=0.999,\n",
    "    value=0.5,\n",
    "    description=\"Fraction\",\n",
    "    step=0.1,\n",
    "    readout_format=\".2f\",\n",
    ")\n",
    "alpha_scatter = FloatSlider(\n",
    "    min=1e-3,\n",
    "    max=0.999,\n",
    "    value=0.5,\n",
    "    description=\"Transparency\",\n",
    "    step=0.1,\n",
    "    readout_format=\".2f\",\n",
    ")\n",
    "line_color = ColorPicker(description=\"Curve color\")\n",
    "line_width = FloatSlider(\n",
    "    min=0.5, max=6, value=0.5, description=\"Line width\", step=0.5, readout_format=\".2f\"\n",
    ")\n",
    "\n",
    "\n",
    "@interact(\n",
    "    frac=frac_value, alpha=alpha_scatter, linecolor=line_color, linewidth=line_width\n",
    ")\n",
    "def plot_smooth_data(frac, linecolor, linewidth, alpha):\n",
    "    smoothed = sm.nonparametric.lowess(exog=x, endog=y, frac=frac)\n",
    "\n",
    "    fig, ax = plt.subplots(1, 1, figsize=(9, 7))\n",
    "    ax.scatter(x, y + noise, color=\"b\", alpha=alpha)\n",
    "    ax.plot(smoothed[:, 0], smoothed[:, 1], c=linecolor, lw=linewidth)\n",
    "    plt.show()"
   ]
  }
 ],
 "metadata": {
  "kernelspec": {
   "display_name": ".venv",
   "language": "python",
   "name": "python3"
  },
  "language_info": {
   "codemirror_mode": {
    "name": "ipython",
    "version": 3
   },
   "file_extension": ".py",
   "mimetype": "text/x-python",
   "name": "python",
   "nbconvert_exporter": "python",
   "pygments_lexer": "ipython3",
   "version": "3.12.5"
  }
 },
 "nbformat": 4,
 "nbformat_minor": 2
}
