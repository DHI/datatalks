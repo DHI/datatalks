{
 "cells": [
  {
   "cell_type": "markdown",
   "metadata": {},
   "source": [
    "# Jupyter widgets\n",
    "\n",
    "- JAPR\n",
    "- 06/03/24"
   ]
  },
  {
   "cell_type": "code",
   "execution_count": null,
   "metadata": {},
   "outputs": [],
   "source": [
    "import ipywidgets as widgets\n",
    "from IPython.display import display, HTML\n",
    "from ipywidgets import interactive\n",
    "\n",
    "import re\n",
    "import numpy as np\n",
    "import matplotlib.pyplot as plt"
   ]
  },
  {
   "cell_type": "markdown",
   "metadata": {},
   "source": [
    "- Jupyter notebooks are (sort of) interactive:"
   ]
  },
  {
   "cell_type": "code",
   "execution_count": null,
   "metadata": {},
   "outputs": [],
   "source": [
    "def useful_function(p1, p2):\n",
    "    return p1 + p2"
   ]
  },
  {
   "cell_type": "code",
   "execution_count": null,
   "metadata": {},
   "outputs": [],
   "source": [
    "# Some other code"
   ]
  },
  {
   "cell_type": "code",
   "execution_count": null,
   "metadata": {},
   "outputs": [],
   "source": [
    "parameter_1 = 3.2\n",
    "parameter_2 = 7.5"
   ]
  },
  {
   "cell_type": "code",
   "execution_count": null,
   "metadata": {},
   "outputs": [],
   "source": [
    "useful_function(parameter_1, parameter_2)"
   ]
  },
  {
   "cell_type": "code",
   "execution_count": null,
   "metadata": {},
   "outputs": [],
   "source": [
    "###\n",
    "\n",
    "text = \"Jupyter widgets are python objects that interact with the browser. They can help you enhance the interactivity of jupyter notebooks.\"\n",
    "\n",
    "# Create a text input widget and button\n",
    "search_box = widgets.Text(placeholder=\"Enter important word\")\n",
    "highlight_button = widgets.Button(description=\"Tease\")\n",
    "font_size_slider = widgets.IntSlider(min=11, max=72, value=12, description=\"Font size\")\n",
    "output = widgets.Output()\n",
    "\n",
    "\n",
    "# Define function to highlight text\n",
    "def highlight_text(_):\n",
    "    search_term = re.escape(search_box.value)  # Escape special characters\n",
    "    highlighted_text = (\n",
    "        re.sub(f\"({search_term})\", r\"<mark>\\1</mark>\", text, flags=re.IGNORECASE)\n",
    "        if search_term\n",
    "        else text\n",
    "    )\n",
    "\n",
    "    with output:\n",
    "        output.clear_output()\n",
    "        display(\n",
    "            HTML(\n",
    "                f\"<p style='font-size:{font_size_slider.value}px'>{highlighted_text}</p>\"\n",
    "            )\n",
    "        )\n",
    "\n",
    "\n",
    "# Ensure the text is always visible\n",
    "with output:\n",
    "    display(HTML(f\"<p>{text}</p>\"))\n",
    "\n",
    "highlight_button.on_click(highlight_text)"
   ]
  },
  {
   "cell_type": "code",
   "execution_count": null,
   "metadata": {},
   "outputs": [],
   "source": [
    "display(output)"
   ]
  },
  {
   "cell_type": "code",
   "execution_count": null,
   "metadata": {},
   "outputs": [],
   "source": [
    "display(search_box, font_size_slider, highlight_button)"
   ]
  },
  {
   "cell_type": "markdown",
   "metadata": {},
   "source": [
    "### What just happened?\n",
    "\n",
    "I have just used 4 _widgets_:\n",
    "- Text input\n",
    "- Integer slider\n",
    "- Button\n",
    "- Output\n",
    "\n",
    "In this context, __widgets__ are `python` objects that can communicate with the notebook renderer.\n",
    "\n",
    "(Many packages, implicitly, do it: `pandas`, `xarray`, `matplotlib`, ...)"
   ]
  },
  {
   "cell_type": "markdown",
   "metadata": {},
   "source": [
    "<div class=\"alert alert-block alert-info\">\n",
    "\n",
    "__Simple recap:__\n",
    "\n",
    "Jupyter notebooks run on two engines: a `python` kernel and a `html`/`javascript` frontend.\n",
    "\n",
    "Jupyter widgets allow you to take advantage of the interactivity that the `javascript` front-end offers, while keeping the core functionality in `python`.\n",
    "\n",
    "(Notice that we broke the _top_ -> _bottom_ direction)\n",
    "\n",
    "![WidgetModelView.webp](WidgetModelView.webp)\n",
    "</div>\n"
   ]
  },
  {
   "cell_type": "markdown",
   "metadata": {},
   "source": [
    "### Mostly a communication tool\n",
    "\n",
    "Widgets require minimal additions to an existing notebook and will improve the communication capabilities of your notebook. This is particularly relevant for:\n",
    "\n",
    "- Exploration\n",
    "- Education\n",
    "- Reporting"
   ]
  },
  {
   "cell_type": "markdown",
   "metadata": {},
   "source": [
    "## Quick start\n",
    "\n",
    "As mentioned, widgets are python obects. As such, you need to install the widget library:\n",
    "\n",
    "    pip install ipywidgets\n",
    "\n",
    "There are different categories:\n",
    "- Numeric, Boolean, Selection, String, Button, Pickers, ...\n",
    "\n",
    "Widgets can be combined in complex layouts.\n",
    "\n",
    "The library is __very__ well documented [here](https://ipywidgets.readthedocs.io/en/7.x/examples/Widget%20Basics.html)."
   ]
  },
  {
   "cell_type": "markdown",
   "metadata": {},
   "source": [
    "## Examaples"
   ]
  },
  {
   "cell_type": "code",
   "execution_count": null,
   "metadata": {},
   "outputs": [],
   "source": [
    "# You call widgets as any other python object\n",
    "from ipywidgets import IntSlider, IntText\n",
    "\n",
    "w1 = IntSlider()  # min=10, max=25, description=\"Simple slider\")\n",
    "w2 = IntText()"
   ]
  },
  {
   "cell_type": "code",
   "execution_count": null,
   "metadata": {},
   "outputs": [],
   "source": [
    "dir(w1)"
   ]
  },
  {
   "cell_type": "code",
   "execution_count": null,
   "metadata": {},
   "outputs": [],
   "source": [
    "w1"
   ]
  },
  {
   "cell_type": "markdown",
   "metadata": {},
   "source": [
    "You can either place the widget at the bottom of the cell, or be more specific using the `display` function."
   ]
  },
  {
   "cell_type": "code",
   "execution_count": null,
   "metadata": {},
   "outputs": [],
   "source": [
    "display(w1)"
   ]
  },
  {
   "cell_type": "markdown",
   "metadata": {},
   "source": [
    "Something else"
   ]
  },
  {
   "cell_type": "code",
   "execution_count": null,
   "metadata": {},
   "outputs": [],
   "source": [
    "display(w1, w2)"
   ]
  },
  {
   "cell_type": "markdown",
   "metadata": {},
   "source": [
    "The state might change but notice that, of course, we might need to rerun dependent cells."
   ]
  },
  {
   "cell_type": "code",
   "execution_count": null,
   "metadata": {},
   "outputs": [],
   "source": [
    "w1.value, w2.value"
   ]
  },
  {
   "cell_type": "markdown",
   "metadata": {},
   "source": [
    "Widgets will store their state, typically in a `value` attribute."
   ]
  },
  {
   "cell_type": "markdown",
   "metadata": {},
   "source": [
    "### Linking widgets\n",
    "\n",
    "You might want to represent the same result in different ways or update existing attributes.\n",
    "\n",
    "In that case you can _link_ widgets.\n",
    "\n",
    "- Only valid for similar widgets (to showcase the same value two different ways).\n",
    "- Need to be aware of the widgets' _traits_"
   ]
  },
  {
   "cell_type": "code",
   "execution_count": null,
   "metadata": {},
   "outputs": [],
   "source": [
    "from ipywidgets import Text, jslink\n",
    "\n",
    "w3 = Text(description=\"w1 description\")\n",
    "mylink = jslink((w1, \"description\"), (w3, \"value\"))\n",
    "# mylink.unlink()\n",
    "\n",
    "w3"
   ]
  },
  {
   "cell_type": "markdown",
   "metadata": {},
   "source": [
    "## Doing something with widgets\n",
    "\n",
    "Widgets offer flexibility at a very little cost."
   ]
  },
  {
   "cell_type": "code",
   "execution_count": null,
   "metadata": {},
   "outputs": [],
   "source": [
    "def plot(freq):\n",
    "    x = np.linspace(0, 2 * np.pi)\n",
    "    y = np.sin(x * freq)\n",
    "    plt.plot(x, y)\n",
    "\n",
    "\n",
    "plot(2)"
   ]
  },
  {
   "cell_type": "markdown",
   "metadata": {},
   "source": [
    "The `interact` functions allows you to easily integrate widgets to your code."
   ]
  },
  {
   "cell_type": "code",
   "execution_count": null,
   "metadata": {},
   "outputs": [],
   "source": [
    "from ipywidgets import FloatSlider, interact\n",
    "\n",
    "freq_selector = FloatSlider(value=2, min=0.1, max=5, step=0.05, description=\"Freq.\")\n",
    "\n",
    "interact(plot, freq=freq_selector);"
   ]
  },
  {
   "cell_type": "code",
   "execution_count": null,
   "metadata": {},
   "outputs": [],
   "source": [
    "from ipywidgets import FloatText, ColorPicker\n",
    "\n",
    "phase_selector = FloatText(description=\"Phase\")\n",
    "color_picker = ColorPicker(description=\"Color\", value=\"red\")\n",
    "\n",
    "\n",
    "@interact(freq=freq_selector, phase=phase_selector, color=color_picker)\n",
    "def plot(freq, phase, color):\n",
    "    x = np.linspace(0, 2 * np.pi)\n",
    "    y = np.sin(phase + x * freq)\n",
    "    plt.plot(x, y, c=color)"
   ]
  },
  {
   "cell_type": "markdown",
   "metadata": {},
   "source": [
    "Using `interact` displays information right away and you might be interested in storing the results of the interaction."
   ]
  },
  {
   "cell_type": "code",
   "execution_count": null,
   "metadata": {},
   "outputs": [],
   "source": [
    "new_freq_selector = FloatSlider(value=2, min=0.1, max=5, step=0.05, description=\"Freq.\")\n",
    "\n",
    "w4 = interactive(plot, freq=new_freq_selector, phase=phase_selector, color=color_picker)"
   ]
  },
  {
   "cell_type": "code",
   "execution_count": null,
   "metadata": {},
   "outputs": [],
   "source": [
    "display(w4)"
   ]
  },
  {
   "cell_type": "code",
   "execution_count": null,
   "metadata": {},
   "outputs": [],
   "source": [
    "w4.children"
   ]
  },
  {
   "cell_type": "markdown",
   "metadata": {},
   "source": [
    "`w4` is a collection of widgets."
   ]
  },
  {
   "cell_type": "markdown",
   "metadata": {},
   "source": [
    "### Defaults and Shortcuts\n",
    "\n",
    "Widgets allow much customization, but they also work right out of the shelf. Notice how, in multiple examples above, I did not pass any argument to the widgets.\n",
    "\n",
    "Similarly, there are pre-defined shortcuts to add functionality without verbose input definitions."
   ]
  },
  {
   "cell_type": "code",
   "execution_count": null,
   "metadata": {},
   "outputs": [],
   "source": [
    "w5 = interactive(\n",
    "    plot, {\"manual\": True}, freq=freq_selector, phase=phase_selector, color=color_picker\n",
    ")\n",
    "display(w5)"
   ]
  },
  {
   "cell_type": "code",
   "execution_count": null,
   "metadata": {},
   "outputs": [],
   "source": [
    "w5.children"
   ]
  },
  {
   "cell_type": "markdown",
   "metadata": {},
   "source": [
    "This has introduced a new type of widget, the _Button_, that defines a new _event_.\n",
    "\n",
    "### Events"
   ]
  },
  {
   "cell_type": "code",
   "execution_count": null,
   "metadata": {},
   "outputs": [],
   "source": [
    "button = widgets.Button(description=\"Click Me!\")\n",
    "output = widgets.Output()\n",
    "\n",
    "display(button, output)\n",
    "\n",
    "\n",
    "def on_button_clicked(b):\n",
    "    with output:\n",
    "        print(\"Button clicked.\")\n",
    "\n",
    "\n",
    "button.on_click(on_button_clicked)"
   ]
  },
  {
   "cell_type": "markdown",
   "metadata": {},
   "source": [
    "## Output\n",
    "\n",
    "A different kind of widget."
   ]
  },
  {
   "cell_type": "code",
   "execution_count": null,
   "metadata": {},
   "outputs": [],
   "source": [
    "out = widgets.Output(layout={\"border\": \"3px solid purple\"})\n",
    "display(out)"
   ]
  },
  {
   "cell_type": "code",
   "execution_count": null,
   "metadata": {},
   "outputs": [],
   "source": [
    "text_input = Text()\n",
    "display(text_input)"
   ]
  },
  {
   "cell_type": "code",
   "execution_count": null,
   "metadata": {},
   "outputs": [],
   "source": [
    "with out:\n",
    "    print(text_input.value)"
   ]
  }
 ],
 "metadata": {
  "kernelspec": {
   "display_name": ".venv",
   "language": "python",
   "name": "python3"
  },
  "language_info": {
   "codemirror_mode": {
    "name": "ipython",
    "version": 3
   },
   "file_extension": ".py",
   "mimetype": "text/x-python",
   "name": "python",
   "nbconvert_exporter": "python",
   "pygments_lexer": "ipython3",
   "version": "3.12.5"
  }
 },
 "nbformat": 4,
 "nbformat_minor": 2
}
