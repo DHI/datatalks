{
 "cells": [
  {
   "cell_type": "markdown",
   "metadata": {},
   "source": [
    "# IPyWIDGETS\n",
    "\n",
    "- JAPR\n",
    "- 06/03/24"
   ]
  },
  {
   "cell_type": "code",
   "execution_count": null,
   "metadata": {},
   "outputs": [],
   "source": [
    "import ipywidgets as widgets\n",
    "from IPython.display import display, HTML\n",
    "from ipywidgets import interactive\n",
    "\n",
    "import re\n",
    "import numpy as np\n",
    "import matplotlib.pyplot as plt"
   ]
  },
  {
   "cell_type": "code",
   "execution_count": null,
   "metadata": {},
   "outputs": [],
   "source": [
    "text = \"IPy widgets are python objects that interact with the browser. They can help you enhance the interactivity of jupyter notebooks.\"\n",
    "\n",
    "# Create a text input widget and button\n",
    "search_box = widgets.Text(placeholder=\"Enter important word\")\n",
    "highlight_button = widgets.Button(description=\"Tease\")\n",
    "font_size_slider = widgets.IntSlider(min=11, max=72, value=12, description=\"Font size\")\n",
    "output = widgets.Output()\n",
    "\n",
    "# Define function to highlight text\n",
    "def highlight_text(_):\n",
    "    search_term = re.escape(search_box.value)  # Escape special characters\n",
    "    highlighted_text = re.sub(f'({search_term})', r'<mark>\\1</mark>', text, flags=re.IGNORECASE) if search_term else text\n",
    "    \n",
    "    with output:\n",
    "        output.clear_output()\n",
    "        display(HTML(f\"<p style='font-size:{font_size_slider.value}px'>{highlighted_text}</p>\"))\n",
    "        \n",
    "\n",
    "# Ensure the text is always visible\n",
    "with output:\n",
    "    display(HTML(f\"<p>{text}</p>\"))\n",
    "\n",
    "highlight_button.on_click(highlight_text)"
   ]
  },
  {
   "cell_type": "markdown",
   "metadata": {},
   "source": [
    "## Teaser"
   ]
  },
  {
   "cell_type": "code",
   "execution_count": 46,
   "metadata": {},
   "outputs": [
    {
     "data": {
      "application/vnd.jupyter.widget-view+json": {
       "model_id": "c6711ee0d89f4fae825740fed68ebc83",
       "version_major": 2,
       "version_minor": 0
      },
      "text/plain": [
       "Output()"
      ]
     },
     "metadata": {},
     "output_type": "display_data"
    }
   ],
   "source": [
    "display(output)"
   ]
  },
  {
   "cell_type": "code",
   "execution_count": 47,
   "metadata": {},
   "outputs": [
    {
     "data": {
      "application/vnd.jupyter.widget-view+json": {
       "model_id": "bff3a4133a7146ad9e684906d756e76d",
       "version_major": 2,
       "version_minor": 0
      },
      "text/plain": [
       "Text(value='', placeholder='Enter important word')"
      ]
     },
     "metadata": {},
     "output_type": "display_data"
    },
    {
     "data": {
      "application/vnd.jupyter.widget-view+json": {
       "model_id": "45f5d3ca7d1846039048661c4f64cb7a",
       "version_major": 2,
       "version_minor": 0
      },
      "text/plain": [
       "IntSlider(value=12, description='Font size', max=72, min=11)"
      ]
     },
     "metadata": {},
     "output_type": "display_data"
    },
    {
     "data": {
      "application/vnd.jupyter.widget-view+json": {
       "model_id": "46671d73bbfe4f7aacef153a2a2ea6f4",
       "version_major": 2,
       "version_minor": 0
      },
      "text/plain": [
       "Button(description='Tease', style=ButtonStyle())"
      ]
     },
     "metadata": {},
     "output_type": "display_data"
    }
   ],
   "source": [
    "display(search_box, font_size_slider, highlight_button)"
   ]
  },
  {
   "cell_type": "markdown",
   "metadata": {},
   "source": [
    "### What just happened?\n",
    "\n",
    "I have just used 4 _widgets_:\n",
    "- Text input\n",
    "- Integer slider\n",
    "- Button\n",
    "- Output\n",
    "\n",
    "In this context, __widgets__ are `python` objects that can communicate with the notebook renderer.\n",
    "\n",
    "(Many packages, implicitly, do it: `pandas`, `xarray`, `matplotlib`, ...)"
   ]
  },
  {
   "cell_type": "markdown",
   "metadata": {},
   "source": [
    "<div class=\"alert alert-block alert-info\">\n",
    "\n",
    "__Simple recap:__\n",
    "\n",
    "Jupyter notebooks run on two engines: a `python` kernel and a `html`/`javascript` frontend.\n",
    "\n",
    "Jupyter widgets allow you to take advantage of the interactivity that the `javascript` front-end offers, while keeping the core functionality in `python`.\n",
    "\n",
    "(Notice that we broke the _top_ -> _bottom_ direction)\n",
    "\n",
    "![WidgetModelView.webp](WidgetModelView.webp)\n",
    "</div>\n"
   ]
  },
  {
   "cell_type": "markdown",
   "metadata": {},
   "source": [
    "### Mostly a communication tool\n",
    "\n",
    "Widgets require minimal additions to an existing notebook and will improve the communication capabilities of your notebook. This is particularly relevant for:\n",
    "\n",
    "- Exploration\n",
    "- Education\n",
    "- Reporting"
   ]
  },
  {
   "cell_type": "markdown",
   "metadata": {},
   "source": [
    "## Quick start\n",
    "\n",
    "As mentioned, widgets are python obects. As such, you need to install the widget library:\n",
    "\n",
    "    pip install ipywidgets\n",
    "\n",
    "There are different categories:\n",
    "- Numeric, Boolean, Selection, String, Button, Pickers, ...\n",
    "\n",
    "Widgets can be combined in complex layouts.\n",
    "\n",
    "The library is __very__ well documented [here](https://ipywidgets.readthedocs.io/en/7.x/examples/Widget%20Basics.html)."
   ]
  },
  {
   "cell_type": "markdown",
   "metadata": {},
   "source": [
    "## Examaples"
   ]
  },
  {
   "cell_type": "code",
   "execution_count": null,
   "metadata": {},
   "outputs": [],
   "source": [
    "# You call widgets as any other python object\n",
    "from ipywidgets import IntSlider, IntText\n",
    "\n",
    "w1 = IntSlider()  # min=10, max=25, description=\"Simple slider\")\n",
    "w2 = IntText()"
   ]
  },
  {
   "cell_type": "code",
   "execution_count": 11,
   "metadata": {},
   "outputs": [
    {
     "data": {
      "text/plain": [
       "['__annotations__',\n",
       " '__class__',\n",
       " '__copy__',\n",
       " '__deepcopy__',\n",
       " '__del__',\n",
       " '__delattr__',\n",
       " '__dict__',\n",
       " '__dir__',\n",
       " '__doc__',\n",
       " '__eq__',\n",
       " '__format__',\n",
       " '__ge__',\n",
       " '__getattribute__',\n",
       " '__getstate__',\n",
       " '__gt__',\n",
       " '__hash__',\n",
       " '__init__',\n",
       " '__init_subclass__',\n",
       " '__le__',\n",
       " '__lt__',\n",
       " '__module__',\n",
       " '__ne__',\n",
       " '__new__',\n",
       " '__reduce__',\n",
       " '__reduce_ex__',\n",
       " '__repr__',\n",
       " '__setattr__',\n",
       " '__setstate__',\n",
       " '__sizeof__',\n",
       " '__str__',\n",
       " '__subclasshook__',\n",
       " '__weakref__',\n",
       " '_active_widgets',\n",
       " '_add_notifiers',\n",
       " '_all_trait_default_generators',\n",
       " '_call_widget_constructed',\n",
       " '_comm_changed',\n",
       " '_compare',\n",
       " '_control_comm',\n",
       " '_cross_validation_lock',\n",
       " '_default_keys',\n",
       " '_descriptors',\n",
       " '_dom_classes',\n",
       " '_gen_repr_from_keys',\n",
       " '_get_embed_state',\n",
       " '_get_trait_default_generator',\n",
       " '_handle_control_comm_msg',\n",
       " '_handle_custom_msg',\n",
       " '_handle_msg',\n",
       " '_holding_sync',\n",
       " '_instance_inits',\n",
       " '_is_numpy',\n",
       " '_lock_property',\n",
       " '_log_default',\n",
       " '_model_id',\n",
       " '_model_module',\n",
       " '_model_module_version',\n",
       " '_model_name',\n",
       " '_msg_callbacks',\n",
       " '_notify_observers',\n",
       " '_notify_trait',\n",
       " '_property_lock',\n",
       " '_register_validator',\n",
       " '_remove_notifiers',\n",
       " '_repr_keys',\n",
       " '_repr_mimebundle_',\n",
       " '_send',\n",
       " '_should_send_property',\n",
       " '_states_to_send',\n",
       " '_static_immutable_initial_values',\n",
       " '_trait_default_generators',\n",
       " '_trait_from_json',\n",
       " '_trait_notifiers',\n",
       " '_trait_to_json',\n",
       " '_trait_validators',\n",
       " '_trait_values',\n",
       " '_traits',\n",
       " '_validate_max',\n",
       " '_validate_min',\n",
       " '_validate_value',\n",
       " '_view_count',\n",
       " '_view_module',\n",
       " '_view_module_version',\n",
       " '_view_name',\n",
       " '_widget_construction_callback',\n",
       " '_widget_types',\n",
       " 'add_class',\n",
       " 'add_traits',\n",
       " 'behavior',\n",
       " 'blur',\n",
       " 'class_own_trait_events',\n",
       " 'class_own_traits',\n",
       " 'class_trait_names',\n",
       " 'class_traits',\n",
       " 'close',\n",
       " 'close_all',\n",
       " 'comm',\n",
       " 'continuous_update',\n",
       " 'cross_validation_lock',\n",
       " 'description',\n",
       " 'description_allow_html',\n",
       " 'description_tooltip',\n",
       " 'disabled',\n",
       " 'focus',\n",
       " 'get_interact_value',\n",
       " 'get_manager_state',\n",
       " 'get_state',\n",
       " 'get_view_spec',\n",
       " 'handle_comm_opened',\n",
       " 'handle_control_comm_opened',\n",
       " 'has_trait',\n",
       " 'hold_sync',\n",
       " 'hold_trait_notifications',\n",
       " 'keys',\n",
       " 'layout',\n",
       " 'log',\n",
       " 'max',\n",
       " 'min',\n",
       " 'model_id',\n",
       " 'notify_change',\n",
       " 'observe',\n",
       " 'on_msg',\n",
       " 'on_trait_change',\n",
       " 'on_widget_constructed',\n",
       " 'open',\n",
       " 'orientation',\n",
       " 'readout',\n",
       " 'readout_format',\n",
       " 'remove_class',\n",
       " 'send',\n",
       " 'send_state',\n",
       " 'set_state',\n",
       " 'set_trait',\n",
       " 'setup_instance',\n",
       " 'step',\n",
       " 'style',\n",
       " 'tabbable',\n",
       " 'tooltip',\n",
       " 'trait_defaults',\n",
       " 'trait_events',\n",
       " 'trait_has_value',\n",
       " 'trait_metadata',\n",
       " 'trait_names',\n",
       " 'trait_values',\n",
       " 'traits',\n",
       " 'unobserve',\n",
       " 'unobserve_all',\n",
       " 'value',\n",
       " 'widget_types',\n",
       " 'widgets']"
      ]
     },
     "execution_count": 11,
     "metadata": {},
     "output_type": "execute_result"
    }
   ],
   "source": [
    "dir(w1)"
   ]
  },
  {
   "cell_type": "code",
   "execution_count": 8,
   "metadata": {},
   "outputs": [
    {
     "data": {
      "application/vnd.jupyter.widget-view+json": {
       "model_id": "2d1b0af6f1bc4084ae20ad48457a1aaf",
       "version_major": 2,
       "version_minor": 0
      },
      "text/plain": [
       "IntSlider(value=0)"
      ]
     },
     "execution_count": 8,
     "metadata": {},
     "output_type": "execute_result"
    }
   ],
   "source": [
    "w1"
   ]
  },
  {
   "cell_type": "markdown",
   "metadata": {},
   "source": [
    "You can either place the widget at the bottom of the cell, or be more specific using the `display` function."
   ]
  },
  {
   "cell_type": "code",
   "execution_count": null,
   "metadata": {},
   "outputs": [
    {
     "data": {
      "application/vnd.jupyter.widget-view+json": {
       "model_id": "2d1b0af6f1bc4084ae20ad48457a1aaf",
       "version_major": 2,
       "version_minor": 0
      },
      "text/plain": [
       "IntSlider(value=0)"
      ]
     },
     "metadata": {},
     "output_type": "display_data"
    }
   ],
   "source": [
    "from IPython.display import display\n",
    "\n",
    "display(w1)"
   ]
  },
  {
   "cell_type": "markdown",
   "metadata": {},
   "source": [
    "Something else"
   ]
  },
  {
   "cell_type": "code",
   "execution_count": 9,
   "metadata": {},
   "outputs": [
    {
     "data": {
      "application/vnd.jupyter.widget-view+json": {
       "model_id": "2d1b0af6f1bc4084ae20ad48457a1aaf",
       "version_major": 2,
       "version_minor": 0
      },
      "text/plain": [
       "IntSlider(value=0)"
      ]
     },
     "metadata": {},
     "output_type": "display_data"
    },
    {
     "data": {
      "application/vnd.jupyter.widget-view+json": {
       "model_id": "0432d709bca04d959ae69869f300ff01",
       "version_major": 2,
       "version_minor": 0
      },
      "text/plain": [
       "IntText(value=0)"
      ]
     },
     "metadata": {},
     "output_type": "display_data"
    }
   ],
   "source": [
    "display(w1, w2)"
   ]
  },
  {
   "cell_type": "markdown",
   "metadata": {},
   "source": [
    "The state might change but notice that, of course, we might need to rerun dependent cells."
   ]
  },
  {
   "cell_type": "code",
   "execution_count": 10,
   "metadata": {},
   "outputs": [
    {
     "data": {
      "text/plain": [
       "(53, 32)"
      ]
     },
     "execution_count": 10,
     "metadata": {},
     "output_type": "execute_result"
    }
   ],
   "source": [
    "w1.value, w2.value"
   ]
  },
  {
   "cell_type": "markdown",
   "metadata": {},
   "source": [
    "Widgets will store their state, typically in a `value` attribute."
   ]
  },
  {
   "cell_type": "markdown",
   "metadata": {},
   "source": [
    "### Linking widgets\n",
    "\n",
    "You might want to represent the same result in different ways or update existing attributes.\n",
    "\n",
    "In that case you can _link_ widgets.\n",
    "\n",
    "- Only valid for similar widgets (to showcase the same value two different ways).\n",
    "- Need to be aware of the widgets' _traits_"
   ]
  },
  {
   "cell_type": "code",
   "execution_count": 41,
   "metadata": {},
   "outputs": [
    {
     "data": {
      "application/vnd.jupyter.widget-view+json": {
       "model_id": "138f3f8ffc1343f0ae308a81f74b92c2",
       "version_major": 2,
       "version_minor": 0
      },
      "text/plain": [
       "Text(value='', description='w1 description')"
      ]
     },
     "execution_count": 41,
     "metadata": {},
     "output_type": "execute_result"
    }
   ],
   "source": [
    "from ipywidgets import Text, jslink\n",
    "\n",
    "w3 = Text(description=\"w1 description\")\n",
    "mylink = jslink((w1, 'description'), (w3, 'value'))\n",
    "# mylink.unlink()\n",
    "\n",
    "w3"
   ]
  },
  {
   "cell_type": "markdown",
   "metadata": {},
   "source": [
    "## Doing something with widgets\n",
    "\n",
    "Widgets offer flexibility at a very little cost."
   ]
  },
  {
   "cell_type": "code",
   "execution_count": 15,
   "metadata": {},
   "outputs": [
    {
     "data": {
      "image/png": "[encoded data removed]",
      "text/plain": [
       "<Figure size 640x480 with 1 Axes>"
      ]
     },
     "metadata": {},
     "output_type": "display_data"
    }
   ],
   "source": [
    "def plot(freq):\n",
    "    x = np.linspace(0, 2*np.pi)\n",
    "    y = np.sin(x * freq)\n",
    "    plt.plot(x, y)\n",
    "\n",
    "plot(2)"
   ]
  },
  {
   "cell_type": "code",
   "execution_count": 17,
   "metadata": {},
   "outputs": [
    {
     "data": {
      "application/vnd.jupyter.widget-view+json": {
       "model_id": "ce7a05369a8b44caa6b384509bb62b3a",
       "version_major": 2,
       "version_minor": 0
      },
      "text/plain": [
       "interactive(children=(FloatSlider(value=2.0, description='Freq.', max=5.0, min=0.1, step=0.05), Output()), _do…"
      ]
     },
     "metadata": {},
     "output_type": "display_data"
    }
   ],
   "source": [
    "from ipywidgets import FloatSlider, interact\n",
    "\n",
    "freq_selector = FloatSlider(value=2, min=0.1, max=5, step=0.05, description=\"Freq.\")\n",
    "\n",
    "interact(plot, freq = freq_selector);"
   ]
  },
  {
   "cell_type": "code",
   "execution_count": null,
   "metadata": {},
   "outputs": [
    {
     "data": {
      "application/vnd.jupyter.widget-view+json": {
       "model_id": "1ac1866440274546ab4fbfb840c0e8bc",
       "version_major": 2,
       "version_minor": 0
      },
      "text/plain": [
       "interactive(children=(FloatSlider(value=2.1, description='Freq.', max=5.0, min=0.1, step=0.05), FloatText(valu…"
      ]
     },
     "metadata": {},
     "output_type": "display_data"
    }
   ],
   "source": [
    "from ipywidgets import FloatText, ColorPicker\n",
    "\n",
    "phase_selector = FloatText(description=\"Phase\")\n",
    "color_picker = ColorPicker(description='Color', value='red')\n",
    "\n",
    "@interact(freq = freq_selector, phase = phase_selector, color = color_picker)\n",
    "def plot(freq, phase, color):\n",
    "    x = np.linspace(0, 2*np.pi)\n",
    "    y = np.sin(phase + x * freq)\n",
    "    plt.plot(x, y, c=color)"
   ]
  },
  {
   "cell_type": "markdown",
   "metadata": {},
   "source": [
    "Using `interact` displays information right away and you might be interested in storing the results of the interaction."
   ]
  },
  {
   "cell_type": "code",
   "execution_count": null,
   "metadata": {},
   "outputs": [],
   "source": [
    "def plot(freq, phase, color):\n",
    "    x = np.linspace(0, 2*np.pi)\n",
    "    y = np.sin(phase + x * freq)\n",
    "    plt.plot(x, y, c=color)\n",
    "\n",
    "new_freq_selector = FloatSlider(value=2, min=0.1, max=5, step=0.05, description=\"Freq.\")\n",
    "\n",
    "w4 = interactive(plot, freq=new_freq_selector, phase=phase_selector, color=color_picker)"
   ]
  },
  {
   "cell_type": "code",
   "execution_count": null,
   "metadata": {},
   "outputs": [
    {
     "data": {
      "application/vnd.jupyter.widget-view+json": {
       "model_id": "200cb8183ca244b69de882b651cd8edc",
       "version_major": 2,
       "version_minor": 0
      },
      "text/plain": [
       "interactive(children=(FloatSlider(value=1.7500000000000004, description='Freq.', max=5.0, min=0.1, step=0.05),…"
      ]
     },
     "metadata": {},
     "output_type": "display_data"
    }
   ],
   "source": [
    "display(w4)"
   ]
  },
  {
   "cell_type": "code",
   "execution_count": null,
   "metadata": {},
   "outputs": [
    {
     "data": {
      "text/plain": [
       "(FloatSlider(value=5.0, description='Freq.', max=5.0, min=0.1, step=0.05),\n",
       " FloatText(value=0.0, description='Phase'),\n",
       " ColorPicker(value='blue', description='Color'),\n",
       " Output())"
      ]
     },
     "execution_count": 47,
     "metadata": {},
     "output_type": "execute_result"
    }
   ],
   "source": [
    "w4.children"
   ]
  },
  {
   "cell_type": "markdown",
   "metadata": {},
   "source": [
    "`w4` is a collection of widgets."
   ]
  },
  {
   "cell_type": "markdown",
   "metadata": {},
   "source": [
    "### Defaults and Shortcuts\n",
    "\n",
    "Widgets allow much customization, but they also work right out of the shelf. Notice how, in multiple examples above, I did not pass any argument to the widgets.\n",
    "\n",
    "Similarly, there are pre-defined shortcuts to add functionality without verbose input definitions."
   ]
  },
  {
   "cell_type": "code",
   "execution_count": 31,
   "metadata": {},
   "outputs": [
    {
     "data": {
      "application/vnd.jupyter.widget-view+json": {
       "model_id": "608501427c7a41cda5b1ad4da0c80499",
       "version_major": 2,
       "version_minor": 0
      },
      "text/plain": [
       "interactive(children=(FloatSlider(value=2.3000000000000003, description='Freq.', max=5.0, min=0.1, step=0.05),…"
      ]
     },
     "metadata": {},
     "output_type": "display_data"
    }
   ],
   "source": [
    "w5 = interactive(plot, {'manual': True}, freq=freq_selector, phase=phase_selector, color=color_picker)\n",
    "display(w5)"
   ]
  },
  {
   "cell_type": "code",
   "execution_count": 32,
   "metadata": {},
   "outputs": [
    {
     "data": {
      "text/plain": [
       "(FloatSlider(value=3.2500000000000004, description='Freq.', max=5.0, min=0.1, step=0.05),\n",
       " FloatText(value=4.0, description='Phase'),\n",
       " ColorPicker(value='#60345c', description='Color'),\n",
       " Button(description='Run Interact', style=ButtonStyle()),\n",
       " Output())"
      ]
     },
     "execution_count": 32,
     "metadata": {},
     "output_type": "execute_result"
    }
   ],
   "source": [
    "w5.children"
   ]
  },
  {
   "cell_type": "markdown",
   "metadata": {},
   "source": [
    "This has introduced a new type of widget, the _Button_, that defines a new _event_.\n",
    "\n",
    "### Events"
   ]
  },
  {
   "cell_type": "code",
   "execution_count": 35,
   "metadata": {},
   "outputs": [
    {
     "data": {
      "application/vnd.jupyter.widget-view+json": {
       "model_id": "f07bab9d0cfc40a69aba45d03c6d610f",
       "version_major": 2,
       "version_minor": 0
      },
      "text/plain": [
       "Button(description='Click Me!', style=ButtonStyle())"
      ]
     },
     "metadata": {},
     "output_type": "display_data"
    },
    {
     "data": {
      "application/vnd.jupyter.widget-view+json": {
       "model_id": "841724f0699048fe8171588ae442a50a",
       "version_major": 2,
       "version_minor": 0
      },
      "text/plain": [
       "Output()"
      ]
     },
     "metadata": {},
     "output_type": "display_data"
    }
   ],
   "source": [
    "button = widgets.Button(description=\"Click Me!\")\n",
    "output = widgets.Output()\n",
    "\n",
    "display(button, output)\n",
    "\n",
    "def on_button_clicked(b):\n",
    "    with output:\n",
    "        print(\"Button clicked.\")\n",
    "\n",
    "button.on_click(on_button_clicked)"
   ]
  },
  {
   "cell_type": "markdown",
   "metadata": {},
   "source": [
    "## Output"
   ]
  },
  {
   "cell_type": "code",
   "execution_count": 67,
   "metadata": {},
   "outputs": [
    {
     "data": {
      "application/vnd.jupyter.widget-view+json": {
       "model_id": "6296600a35db4117a936b936a8019a57",
       "version_major": 2,
       "version_minor": 0
      },
      "text/plain": [
       "Output(layout=Layout(border_bottom='1px solid purple', border_left='1px solid purple', border_right='1px solid…"
      ]
     },
     "execution_count": 67,
     "metadata": {},
     "output_type": "execute_result"
    }
   ],
   "source": [
    "out = widgets.Output(layout={'border': '1px solid purple'})\n",
    "out"
   ]
  },
  {
   "cell_type": "code",
   "execution_count": 68,
   "metadata": {},
   "outputs": [
    {
     "data": {
      "application/vnd.jupyter.widget-view+json": {
       "model_id": "67b6d16efeda476dbc464550ffac1da7",
       "version_major": 2,
       "version_minor": 0
      },
      "text/plain": [
       "Text(value='')"
      ]
     },
     "metadata": {},
     "output_type": "display_data"
    }
   ],
   "source": [
    "text_input = Text()\n",
    "display(text_input)"
   ]
  },
  {
   "cell_type": "code",
   "execution_count": 69,
   "metadata": {},
   "outputs": [],
   "source": [
    "out.append_display_data(text_input.value)"
   ]
  },
  {
   "cell_type": "code",
   "execution_count": 70,
   "metadata": {},
   "outputs": [],
   "source": [
    "with out:\n",
    "    print(text_input.value)"
   ]
  }
 ],
 "metadata": {
  "kernelspec": {
   "display_name": ".venv",
   "language": "python",
   "name": "python3"
  },
  "language_info": {
   "codemirror_mode": {
    "name": "ipython",
    "version": 3
   },
   "file_extension": ".py",
   "mimetype": "text/x-python",
   "name": "python",
   "nbconvert_exporter": "python",
   "pygments_lexer": "ipython3",
   "version": "3.12.5"
  }
 },
 "nbformat": 4,
 "nbformat_minor": 2
}
