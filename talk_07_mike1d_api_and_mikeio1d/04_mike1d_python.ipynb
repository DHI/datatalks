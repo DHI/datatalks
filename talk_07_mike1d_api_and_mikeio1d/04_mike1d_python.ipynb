{
 "cells": [
  {
   "cell_type": "markdown",
   "metadata": {},
   "source": [
    "## Run a model from Python\n",
    "### Setup MIKE installation using pythonnet and DHI.Mike.Install"
   ]
  },
  {
   "cell_type": "code",
   "execution_count": null,
   "metadata": {},
   "outputs": [],
   "source": [
    "import clr\n",
    "\n",
    "clr.AddReference('DHI.Mike.Install, Version=1.0.0.0, Culture=neutral, PublicKeyToken=c513450b5d0bf0bf')\n",
    "\n",
    "from DHI.Mike.Install import MikeImport\n",
    "MikeImport.SetupLatest()\n",
    "print('Found MIKE installation in: ' + MikeImport.ActiveProduct().InstallRoot)"
   ]
  },
  {
   "cell_type": "markdown",
   "metadata": {},
   "source": [
    "### Load MIKE 1D libaries"
   ]
  },
  {
   "cell_type": "code",
   "execution_count": null,
   "metadata": {},
   "outputs": [],
   "source": [
    "clr.AddReference('DHI.Mike1D.Generic')\n",
    "clr.AddReference('DHI.Mike1D.Mike1DDataAccess')\n",
    "clr.AddReference('DHI.Mike1D.SimLauncher')\n",
    "clr.AddReference('DHI.Mike1D.StructureModule')\n",
    "\n",
    "from DHI.Mike1D.Generic import Connection, FilePath, Diagnostics\n",
    "from DHI.Mike1D.Mike1DDataAccess import Mike1DData, Mike1DController, ControllerState\n",
    "from DHI.Mike1D.SimLauncher import SimulationWorker, SimulationLauncher\n",
    "from DHI.Mike1D.StructureModule import HonmaWeir"
   ]
  },
  {
   "cell_type": "markdown",
   "metadata": {},
   "source": [
    "### Run a setup using SimulationWorker"
   ]
  },
  {
   "cell_type": "code",
   "execution_count": null,
   "metadata": {},
   "outputs": [],
   "source": [
    "input_file_name = r'.\\exercise1\\exercise1.m1dx'\n",
    "input_file_path = FilePath(input_file_name)\n",
    "simulationWorker = SimulationWorker(input_file_path)\n",
    "simulationWorker.Work()\n",
    "simulationWorker.Dispose()"
   ]
  },
  {
   "cell_type": "markdown",
   "metadata": {},
   "source": [
    "### Run a setup using Mike1DController"
   ]
  },
  {
   "cell_type": "code",
   "execution_count": null,
   "metadata": {},
   "outputs": [],
   "source": [
    "input_file_name = r'.\\exercise1\\exercise1.m1dx'\n",
    "connection = Connection.Create(input_file_name)\n",
    "controller = Mike1DController.Load(connection)\n",
    "diagnostics = Diagnostics('My Diagnostics')\n",
    "\n",
    "controller.Validate()\n",
    "controller.Initialize(diagnostics)\n",
    "controller.Prepare()\n",
    "controller.Run()\n",
    "controller.Finalize()\n",
    "controller.Finish()\n",
    "\n",
    "!{'copy exercise1\\Exercise1BaseHD.res1d exercise1\\Exercise1BaseHDNoScriptPython.res1d'}"
   ]
  },
  {
   "cell_type": "markdown",
   "metadata": {},
   "source": [
    "### C# script translated to Python"
   ]
  },
  {
   "cell_type": "code",
   "execution_count": null,
   "metadata": {},
   "outputs": [],
   "source": [
    "class MyScript:\n",
    "\n",
    "    def __init__(self, controller):\n",
    "        self.controller = controller\n",
    "        self.mike1d_data = controller.Mike1DData\n",
    "        self.structures = controller.Mike1DData.Network.StructureCollection.Structures\n",
    "\n",
    "        self.crest_width_initial = 0.0\n",
    "        self.weir_index = -1\n",
    "        self.weir_id = \"Weir\"\n",
    "\n",
    "    def modify_mike1d_data(self):\n",
    "        \"\"\" Method to modify the Mike1DData \"\"\"\n",
    "        structures, weir_id = self.structures, self.weir_id\n",
    "        \n",
    "        weir_index = list(filter(lambda structure: structure[1].ID == weir_id, enumerate(structures)))[0][0]    \n",
    "        self.weir_index = weir_index\n",
    "\n",
    "        bc_weir = structures[weir_index]\n",
    "        if isinstance(bc_weir, HonmaWeir):\n",
    "          return\n",
    "\n",
    "        print(\"Removing the weir\")\n",
    "        structures.RemoveAt(weir_index)\n",
    "\n",
    "        print(\"Creating Honma weir\")\n",
    "        honma_weir = self.create_honma_weir(bc_weir)\n",
    "\n",
    "        print(\"Adding Honma weir to network\")\n",
    "        structures.Add(honma_weir)\n",
    "\n",
    "    def create_honma_weir(self, bc_weir):\n",
    "        self.crest_width_initial = bc_weir.WeirGeometry.LevelWidths[0].Width\n",
    "\n",
    "        honma_weir = HonmaWeir()\n",
    "        \n",
    "        honma_weir.ID = bc_weir.ID\n",
    "        honma_weir.Location = bc_weir.Location\n",
    "        honma_weir.CrestWidth = self.crest_width_initial\n",
    "        honma_weir.CrestLevel = bc_weir.InvertLevelUpstream\n",
    "        honma_weir.WeirCoefficient = 1.0\n",
    "      \n",
    "        return honma_weir\n",
    "\n",
    "    def modify_controller(self):\n",
    "        self.controller.ControllerEvent += self.controller_on_controller_event\n",
    "     \n",
    "    def controller_on_controller_event(self, sender, event_args):\n",
    "        if event_args.State != ControllerState.Running:\n",
    "            return\n",
    "\n",
    "        controller = sender\n",
    "\n",
    "        self.engine_net = controller.EngineNet\n",
    "        self.engine_net.PreTimeStepEvent += self.pre_time_step_event\n",
    "\n",
    "    def pre_time_step_event(self, time_n, time_np1, redo_count):\n",
    "        honma_weir = self.structures[self.weir_index]\n",
    "        honma_weir.CrestWidth = self.crest_width_initial * (1.0 - time_n.Minute/600.0)\n",
    "        print('Time:', self.engine_net.EngineTime.TimeNp1.ToString(), \" Width:\", honma_weir.CrestWidth)\n"
   ]
  },
  {
   "cell_type": "code",
   "execution_count": null,
   "metadata": {},
   "outputs": [],
   "source": [
    "input_file_name = r'.\\exercise1\\exercise1.m1dx'\n",
    "connection = Connection.Create(input_file_name)\n",
    "controller = Mike1DController.Load(connection)\n",
    "diagnostics = Diagnostics('My Diagnostics')\n",
    "\n",
    "my_script = MyScript(controller)\n",
    "my_script.modify_mike1d_data()\n",
    "my_script.modify_controller()\n",
    "\n",
    "controller.Validate()\n",
    "controller.Initialize(diagnostics)\n",
    "controller.Prepare()\n",
    "controller.Run()\n",
    "controller.Finalize()\n",
    "controller.Finish()\n",
    "\n",
    "!{'copy exercise1\\Exercise1BaseHD.res1d exercise1\\Exercise1BaseHDScriptPython.res1d'}"
   ]
  },
  {
   "cell_type": "code",
   "execution_count": null,
   "metadata": {},
   "outputs": [],
   "source": [
    "import mikeio1d\n",
    "import pandas as pd\n",
    "from matplotlib import pyplot as plt\n",
    "plt.style.use('default')"
   ]
  },
  {
   "cell_type": "code",
   "execution_count": null,
   "metadata": {},
   "outputs": [],
   "source": [
    "res1d_no_script = mikeio1d.Res1D('exercise1\\Exercise1BaseHDNoScriptPython.res1d')\n",
    "res1d_script = mikeio1d.Res1D('exercise1\\Exercise1BaseHDScriptPython.res1d')"
   ]
  },
  {
   "cell_type": "code",
   "execution_count": null,
   "metadata": {},
   "outputs": [],
   "source": [
    "df_no_script = res1d_no_script.read_all()\n",
    "df_script = res1d_script.read_all()"
   ]
  },
  {
   "cell_type": "code",
   "execution_count": null,
   "metadata": {},
   "outputs": [],
   "source": [
    "ax = df_no_script['Discharge:SquareChannel:5000'].plot()\n",
    "ax = df_script['Discharge:SquareChannel:5000'].plot()\n",
    "ax.set_xlabel('Time')\n",
    "ax.set_ylabel('Discharge [m$^3$/s]')\n",
    "plt.show()"
   ]
  }
 ],
 "metadata": {
  "interpreter": {
   "hash": "52634da84371cba311ea128a5ea7cdc41ff074b781779e754b270ff9f8153cee"
  },
  "kernelspec": {
   "display_name": "Python 3.8.7 64-bit (system)",
   "language": "python",
   "name": "python3"
  },
  "language_info": {
   "codemirror_mode": {
    "name": "ipython",
    "version": 3
   },
   "file_extension": ".py",
   "mimetype": "text/x-python",
   "name": "python",
   "nbconvert_exporter": "python",
   "pygments_lexer": "ipython3",
   "version": "3.8.7"
  },
  "orig_nbformat": 4
 },
 "nbformat": 4,
 "nbformat_minor": 2
}
