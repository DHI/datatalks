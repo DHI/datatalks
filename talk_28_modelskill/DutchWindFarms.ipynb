{
 "cells": [
  {
   "cell_type": "code",
   "execution_count": null,
   "metadata": {},
   "outputs": [],
   "source": [
    "import pandas as pd\n",
    "import modelskill as ms"
   ]
  },
  {
   "cell_type": "code",
   "execution_count": null,
   "metadata": {},
   "outputs": [],
   "source": [
    "fldr = \"../../../SimulationsFM/ModelSkill/DutchWindFarms/Subset_10stn_5y/\""
   ]
  },
  {
   "cell_type": "code",
   "execution_count": null,
   "metadata": {},
   "outputs": [],
   "source": [
    "df = pd.read_csv(fldr + \"stations.csv\", index_col=0)\n",
    "df"
   ]
  },
  {
   "cell_type": "code",
   "execution_count": null,
   "metadata": {},
   "outputs": [],
   "source": [
    "cmps = []\n",
    "obss = []\n",
    "for s in df.index:\n",
    "    print(f\"Loading {s}...\")\n",
    "    obs = ms.observation(fldr + f\"{s}_WL.dfs0\", item=0, name=s, x=df.loc[s, \"lon\"], y=df.loc[s, \"lat\"])\n",
    "    obss.append(obs)\n",
    "    mod = ms.model_result(fldr + \"HD_DWF23_10pts_5y.dfs0\", item=f\"{s}: Surface elevation\")\n",
    "    cmp = ms.match(obs=obs, mod=mod)\n",
    "    cmps.append(cmp)\n",
    "cc = ms.ComparerCollection(cmps)"
   ]
  },
  {
   "cell_type": "code",
   "execution_count": null,
   "metadata": {},
   "outputs": [],
   "source": [
    "ms.plotting.temporal_coverage(obs=obss);"
   ]
  },
  {
   "cell_type": "code",
   "execution_count": null,
   "metadata": {},
   "outputs": [],
   "source": [
    "cc.skill().style()"
   ]
  },
  {
   "cell_type": "code",
   "execution_count": null,
   "metadata": {},
   "outputs": [],
   "source": [
    "cc[\"J6\"].plot.scatter(skill_table=True);"
   ]
  },
  {
   "cell_type": "code",
   "execution_count": null,
   "metadata": {},
   "outputs": [],
   "source": [
    "cc[\"HKNA\"].sel(time=\"2018-10\").plot.timeseries();"
   ]
  },
  {
   "cell_type": "code",
   "execution_count": null,
   "metadata": {},
   "outputs": [],
   "source": [
    "cc.score(metric=\"cc\")"
   ]
  },
  {
   "cell_type": "code",
   "execution_count": null,
   "metadata": {},
   "outputs": [],
   "source": [
    "cc.skill(by=[\"observation\",\"freq:3M\"])[\"rmse\"].plot.line();"
   ]
  },
  {
   "cell_type": "code",
   "execution_count": null,
   "metadata": {},
   "outputs": [],
   "source": [
    "cc.skill()[\"urmse\"].to_geodataframe().explore(\"urmse\", marker_kwds={\"radius\":10}, tiles=\"CartoDB positron\", cmap=\"Reds\")"
   ]
  },
  {
   "cell_type": "code",
   "execution_count": null,
   "metadata": {},
   "outputs": [],
   "source": []
  }
 ],
 "metadata": {
  "kernelspec": {
   "display_name": "base",
   "language": "python",
   "name": "python3"
  },
  "language_info": {
   "codemirror_mode": {
    "name": "ipython",
    "version": 3
   },
   "file_extension": ".py",
   "mimetype": "text/x-python",
   "name": "python",
   "nbconvert_exporter": "python",
   "pygments_lexer": "ipython3",
   "version": "3.10.12"
  }
 },
 "nbformat": 4,
 "nbformat_minor": 2
}
