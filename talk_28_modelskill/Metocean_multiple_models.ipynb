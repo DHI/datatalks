{
    "cells": [
        {
            "cell_type": "markdown",
            "metadata": {},
            "source": [
                "# Metocean use case - extract data from dfsu and netcdf files\n",
                "\n",
                "2D model results stored in NetCDF or Grib can be loaded to ModelSkill using xarray. In this way, MIKE 21 modelresults in dfsu format can easily be compared to model results from third party providers often stored in NetCDF. "
            ]
        },
        {
            "cell_type": "code",
            "execution_count": null,
            "metadata": {},
            "outputs": [],
            "source": [
                "import xarray as xr\n",
                "import modelskill as ms"
            ]
        },
        {
            "attachments": {},
            "cell_type": "markdown",
            "metadata": {},
            "source": [
                "## Observations\n",
                "\n",
                "2 point observations and 1 track observation from Satellite altimetry. "
            ]
        },
        {
            "cell_type": "code",
            "execution_count": null,
            "metadata": {},
            "outputs": [],
            "source": [
                "o1 = ms.PointObservation('examples/metocean/HKNA_Hm0.dfs0', item=0, x=4.2420, y=52.6887, name=\"HKNA\")\n",
                "o2 = ms.PointObservation(\"examples/metocean/eur_Hm0.dfs0\", item=0, x=3.2760, y=51.9990, name=\"EPL\")\n",
                "o3 = ms.TrackObservation(\"examples/metocean/Alti_c2_Dutch.dfs0\", item=3, name=\"c2\")"
            ]
        },
        {
            "attachments": {},
            "cell_type": "markdown",
            "metadata": {},
            "source": [
                "## MIKE ModelResult"
            ]
        },
        {
            "cell_type": "code",
            "execution_count": null,
            "metadata": {},
            "outputs": [],
            "source": [
                "mrMIKE = ms.model_result('examples/metocean/HKZN_local_2017_DutchCoast.dfsu', name='MIKE21SW', item=0)\n",
                "mrMIKE2 = ms.model_result('examples/metocean/DutchCoast_2017_subset_v2.dfsu', name='MIKE21SW_v2', item=0)"
            ]
        },
        {
            "cell_type": "markdown",
            "metadata": {},
            "source": [
                "## Spatial overview"
            ]
        },
        {
            "cell_type": "code",
            "execution_count": null,
            "metadata": {},
            "outputs": [],
            "source": [
                "ms.plotting.spatial_overview(obs=[o1,o2,o3], mod=mrMIKE);"
            ]
        },
        {
            "cell_type": "code",
            "execution_count": null,
            "metadata": {},
            "outputs": [],
            "source": [
                "cc = ms.match(obs=[o1,o2,o3], mod=[mrMIKE, mrMIKE2])\n",
                "cc.skill()"
            ]
        },
        {
            "attachments": {},
            "cell_type": "markdown",
            "metadata": {},
            "source": [
                "## NetCDF ModelResult"
            ]
        },
        {
            "cell_type": "code",
            "execution_count": null,
            "metadata": {},
            "outputs": [],
            "source": [
                "fn = \"examples/metocean/ERA5_DutchCoast.nc\"\n",
                "xr.open_dataset(fn)"
            ]
        },
        {
            "cell_type": "code",
            "execution_count": null,
            "metadata": {},
            "outputs": [],
            "source": [
                "mrERA5 = ms.model_result(fn, item=\"swh\", name='ERA5')\n",
                "mrERA5"
            ]
        },
        {
            "cell_type": "code",
            "execution_count": null,
            "metadata": {},
            "outputs": [],
            "source": [
                "mrERA5.data  # mr contains the xr.Dataset"
            ]
        },
        {
            "attachments": {},
            "cell_type": "markdown",
            "metadata": {},
            "source": [
                "## Test extract from XArray\n",
                "\n",
                "1) Extract point \n",
                "2) Extract track"
            ]
        },
        {
            "cell_type": "code",
            "execution_count": null,
            "metadata": {},
            "outputs": [],
            "source": [
                "mrERA5.extract(o1)"
            ]
        },
        {
            "cell_type": "code",
            "execution_count": null,
            "metadata": {},
            "outputs": [],
            "source": [
                "mrERA5.extract(o1).plot()"
            ]
        },
        {
            "cell_type": "code",
            "execution_count": null,
            "metadata": {},
            "outputs": [],
            "source": [
                "mrERA5.extract(o3).to_dataframe().head()"
            ]
        },
        {
            "attachments": {},
            "cell_type": "markdown",
            "metadata": {},
            "source": [
                "## Multi-file ModelResult\n",
                "\n",
                "Use mfdataset to load multiple files as a single ModelResult. Here from CMEMS Meteo-France."
            ]
        },
        {
            "cell_type": "code",
            "execution_count": null,
            "metadata": {},
            "outputs": [],
            "source": [
                "fn = \"examples/metocean/CMEMS_DutchCoast_*.nc\"   # Note the wildcard!\n",
                "mrCMEMS = ms.model_result(fn, item=\"VHM0\", name='CMEMS')\n",
                "mrCMEMS"
            ]
        },
        {
            "cell_type": "code",
            "execution_count": null,
            "metadata": {},
            "outputs": [],
            "source": [
                "mrCMEMS.data"
            ]
        },
        {
            "attachments": {},
            "cell_type": "markdown",
            "metadata": {},
            "source": [
                "## Match multiple models and observations and extract"
            ]
        },
        {
            "cell_type": "code",
            "execution_count": null,
            "metadata": {},
            "outputs": [],
            "source": [
                "ms.plotting.temporal_coverage(obs=[o1,o2,o3], mod=[mrERA5, mrCMEMS, mrMIKE, mrMIKE2]);"
            ]
        },
        {
            "cell_type": "code",
            "execution_count": null,
            "metadata": {},
            "outputs": [],
            "source": [
                "cc = ms.match(obs=[o1,o2,o3], mod=[mrERA5, mrCMEMS, mrMIKE, mrMIKE2])\n",
                "cc"
            ]
        },
        {
            "attachments": {},
            "cell_type": "markdown",
            "metadata": {},
            "source": [
                "## Analysis and plotting\n",
                "Which model is better? "
            ]
        },
        {
            "cell_type": "code",
            "execution_count": null,
            "metadata": {},
            "outputs": [],
            "source": [
                "sk = cc.skill()\n",
                "sk.swaplevel().sort_index(level=\"observation\").style()"
            ]
        },
        {
            "cell_type": "code",
            "execution_count": null,
            "metadata": {},
            "outputs": [],
            "source": [
                "sk[\"urmse\"].plot.bar(figsize=(6,3));"
            ]
        },
        {
            "cell_type": "code",
            "execution_count": null,
            "metadata": {},
            "outputs": [],
            "source": [
                "cc.mean_skill().style()"
            ]
        },
        {
            "cell_type": "code",
            "execution_count": null,
            "metadata": {},
            "outputs": [],
            "source": [
                "cc.plot.taylor(figsize=6);"
            ]
        },
        {
            "cell_type": "code",
            "execution_count": null,
            "metadata": {},
            "outputs": [],
            "source": []
        }
    ],
    "metadata": {
        "kernelspec": {
            "display_name": "base",
            "language": "python",
            "name": "python3"
        },
        "language_info": {
            "codemirror_mode": {
                "name": "ipython",
                "version": 3
            },
            "file_extension": ".py",
            "mimetype": "text/x-python",
            "name": "python",
            "nbconvert_exporter": "python",
            "pygments_lexer": "ipython3",
            "version": "3.10.12"
        },
        "orig_nbformat": 2,
        "vscode": {
            "interpreter": {
                "hash": "7aec4f91c09090e98e6ae8203c38529831bb4a3ce54cd1b69639b53cb01a6aa9"
            }
        }
    },
    "nbformat": 4,
    "nbformat_minor": 2
}
