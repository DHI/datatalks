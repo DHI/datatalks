{
 "cells": [
  {
   "cell_type": "markdown",
   "metadata": {},
   "source": [
    "# Overview of some project\n",
    "\n",
    "## Modelling\n",
    "1. [data (pre)processing](data.ipynb): raw data is prepared for further use (e.g. getting rid of outliers, filling gaps)\n",
    "2. [model setup](setup.ipynb): model setups are summarized and compared\n",
    "3. [model skill](skill.ipynb): model skill is assessed for multiple models\n"
   ]
  }
 ],
 "metadata": {
  "language_info": {
   "name": "python"
  },
  "orig_nbformat": 4
 },
 "nbformat": 4,
 "nbformat_minor": 2
}
