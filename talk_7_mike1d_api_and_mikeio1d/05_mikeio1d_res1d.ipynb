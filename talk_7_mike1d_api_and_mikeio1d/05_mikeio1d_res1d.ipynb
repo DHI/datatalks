{
 "cells": [
  {
   "cell_type": "markdown",
   "metadata": {},
   "source": [
    "## mikeio1d: A package that uses the DHI MIKE 1D .NET libraries to read res1d and xns11 files"
   ]
  },
  {
   "cell_type": "code",
   "execution_count": null,
   "metadata": {},
   "outputs": [],
   "source": [
    "import mikeio1d\n",
    "import pandas as pd\n",
    "from matplotlib import pyplot as plt\n",
    "plt.style.use('default')"
   ]
  },
  {
   "cell_type": "markdown",
   "metadata": {},
   "source": [
    "### Network result file"
   ]
  },
  {
   "cell_type": "code",
   "execution_count": null,
   "metadata": {},
   "outputs": [],
   "source": [
    "res1d_network = mikeio1d.Res1D(r'data\\Network.res1d')\n",
    "print(res1d_network)"
   ]
  },
  {
   "cell_type": "code",
   "execution_count": null,
   "metadata": {},
   "outputs": [],
   "source": [
    "res1d_network.quantities"
   ]
  },
  {
   "cell_type": "code",
   "execution_count": null,
   "metadata": {},
   "outputs": [],
   "source": [
    "res1d_network.nodes"
   ]
  },
  {
   "cell_type": "code",
   "execution_count": null,
   "metadata": {},
   "outputs": [],
   "source": [
    "df_network = res1d_network.read_all()\n",
    "df_network"
   ]
  },
  {
   "cell_type": "markdown",
   "metadata": {},
   "source": [
    "### Network result file - query"
   ]
  },
  {
   "cell_type": "code",
   "execution_count": null,
   "metadata": {},
   "outputs": [],
   "source": [
    "from mikeio1d.res1d import QueryDataNode, QueryDataReach\n",
    "\n",
    "# Read a specific reach\n",
    "query1 = QueryDataNode('WaterLevel', '1')\n",
    "\n",
    "# Read a specific reach and chainage\n",
    "query2 = QueryDataReach(\"WaterLevel\", \"104l1\", 34.4131)\n",
    "\n",
    "# Combine queries to extract in one go\n",
    "queries = [query1, query2]\n",
    "\n",
    "df_network_query = res1d_network.read(queries=queries)\n",
    "df_network_query"
   ]
  },
  {
   "cell_type": "markdown",
   "metadata": {},
   "source": [
    "### Network result file - filtered"
   ]
  },
  {
   "cell_type": "code",
   "execution_count": null,
   "metadata": {},
   "outputs": [],
   "source": [
    "res1d_network_filtered = mikeio1d.Res1D(r'data\\Network.res1d', nodes=['1', '2', '3'], reaches=['99l1'])\n",
    "df_network_filtered = res1d_network_filtered.read_all()\n",
    "df_network_filtered"
   ]
  },
  {
   "cell_type": "markdown",
   "metadata": {},
   "source": [
    "### Catchments result file"
   ]
  },
  {
   "cell_type": "code",
   "execution_count": null,
   "metadata": {},
   "outputs": [],
   "source": [
    "res1d_catchments = mikeio1d.Res1D(r'data\\Catchments.res1d')\n",
    "print(res1d_catchments)"
   ]
  },
  {
   "cell_type": "code",
   "execution_count": null,
   "metadata": {},
   "outputs": [],
   "source": [
    "df_catchments = res1d_catchments.read_all()\n",
    "df_catchments"
   ]
  },
  {
   "cell_type": "markdown",
   "metadata": {},
   "source": [
    "### Catchment result file - filtered"
   ]
  },
  {
   "cell_type": "code",
   "execution_count": null,
   "metadata": {},
   "outputs": [],
   "source": [
    "res1d_catchments_filtered = mikeio1d.Res1D(r'data\\Catchments.res1d', catchments=['100_16_16'])\n",
    "df_catchments_filtered = res1d_catchments_filtered.read_all()\n",
    "df_catchments_filtered"
   ]
  },
  {
   "cell_type": "code",
   "execution_count": null,
   "metadata": {},
   "outputs": [],
   "source": [
    "ax = df_catchments_filtered['TotalRunOff:100_16_16'].plot()\n",
    "ax.set_xlabel('Time')\n",
    "ax.set_ylabel('Total runoff [m$^3$/s]')\n",
    "plt.show()"
   ]
  }
 ],
 "metadata": {
  "interpreter": {
   "hash": "52634da84371cba311ea128a5ea7cdc41ff074b781779e754b270ff9f8153cee"
  },
  "kernelspec": {
   "display_name": "Python 3.8.7 64-bit (system)",
   "language": "python",
   "name": "python3"
  },
  "language_info": {
   "codemirror_mode": {
    "name": "ipython",
    "version": 3
   },
   "file_extension": ".py",
   "mimetype": "text/x-python",
   "name": "python",
   "nbconvert_exporter": "python",
   "pygments_lexer": "ipython3",
   "version": "3.8.7"
  },
  "orig_nbformat": 4
 },
 "nbformat": 4,
 "nbformat_minor": 2
}
