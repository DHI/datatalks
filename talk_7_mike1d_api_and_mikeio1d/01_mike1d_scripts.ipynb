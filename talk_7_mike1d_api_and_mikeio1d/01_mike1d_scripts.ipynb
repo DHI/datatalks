{
 "cells": [
  {
   "cell_type": "markdown",
   "metadata": {},
   "source": [
    "[MIKE 1D C# Scripts](https://github.com/DHI/Mike1D-SDK-examples/tree/master/DHI.Mike1D.Examples/Scripts)\n",
    "===================\n",
    "\n",
    "MIKE 1D Script is a C# source file that is built and executed at runtime."
   ]
  },
  {
   "cell_type": "markdown",
   "metadata": {},
   "source": [
    "A script example to modify MIKE 1D data:\n",
    "\n",
    "```C#\n",
    "using DHI.Mike1D.Mike1DDataAccess;\n",
    "using DHI.Mike1D.Plugins;\n",
    "\n",
    "namespace ScriptsNamespaceWhichIsNotImportant\n",
    "{ \n",
    "  public class ClassNameWhichIsNotImportant\n",
    "  {\n",
    "    /// <summary>\n",
    "    /// Method to modify MIKE 1D data.\n",
    "    /// The important parts of the code are:\n",
    "    ///   1. [Script] attribute. It marks methods, which MIKE 1D will try to call\n",
    "    ///   2. Method arguments. In this case it is an argument of the type Mike1DData\n",
    "    /// </summary>\n",
    "    [Script]    \n",
    "    public void MethodNameWhichIsNotImportant(Mike1DData mike1DData)\n",
    "    {\n",
    "      mike1DData.SimulationStart = new DateTime(2022, 06, 09, 9, 0, 0);\n",
    "      mike1DData.SimulationEnd = new DateTime(2022, 06, 09, 9, 30, 0);\n",
    "    }\n",
    "  }\n",
    "}\n",
    "```"
   ]
  },
  {
   "cell_type": "markdown",
   "metadata": {},
   "source": [
    "Another script example to modify the MIKE 1D controller:\n",
    "\n",
    "```C#\n",
    "using DHI.Mike1D.Mike1DDataAccess;\n",
    "using DHI.Mike1D.Plugins;\n",
    "\n",
    "namespace ScriptsNamespaceWhichIsNotImportant\n",
    "{ \n",
    "  public class ClassNameWhichIsNotImportant\n",
    "  {\n",
    "    /// <summary> Method to modify the controller. </summary>\n",
    "    [Script]\n",
    "    public void ModifyController(IMike1DController controller)\n",
    "    {\n",
    "      controller.ControllerEvent += ControllerOnControllerEvent;\n",
    "    }\n",
    "    \n",
    "    private void ControllerOnControllerEvent(object sender, ControllerEventArgs e)\n",
    "    {\n",
    "      if (e.State != ControllerState.Preparing)\n",
    "        return;\n",
    "\n",
    "      var controller = (IMike1DController)sender;\n",
    "      var engineNet = controller.EngineNet;\n",
    "\n",
    "      // Here the EngineNet is available and modifications on it can be performed\n",
    "    }\n",
    "  }\n",
    "}\n",
    "```"
   ]
  },
  {
   "cell_type": "markdown",
   "metadata": {},
   "source": [
    "## Enabling MIKE 1D scripts:\n",
    "* Automatic:\n",
    "  * For setup `MySetup.mupp` name the script `MySetup.cs`\n",
    "* Command line argument:\n",
    "  * `DHI.Mike1D.Application.exe MySetup.m1dx -script=MyScript.cs`\n",
    "* Add it in MIKE+ GUI"
   ]
  },
  {
   "cell_type": "markdown",
   "metadata": {},
   "source": [
    "## Setup modification exercise\n",
    "* Replace broad crested weir with Honma weir\n",
    "* Change crest width during simulation"
   ]
  },
  {
   "cell_type": "code",
   "execution_count": 1,
   "metadata": {},
   "outputs": [
    {
     "data": {
      "image/png": "[encoded data removed]",
      "text/plain": [
       "<IPython.core.display.Image object>"
      ]
     },
     "execution_count": 1,
     "metadata": {},
     "output_type": "execute_result"
    }
   ],
   "source": [
    "from IPython.display import Image\n",
    "Image(filename='images/exercise1_model.png')"
   ]
  },
  {
   "cell_type": "markdown",
   "metadata": {},
   "source": [
    "## Script creation workflow:\n",
    "  * Visual Studio\n",
    "  * Visual Studio Code (or any other suitable editor)\n",
    "  * [.NET Interactive](02_mike1d_scripts_net.ipynb) in Visual Studio Code"
   ]
  }
 ],
 "metadata": {
  "interpreter": {
   "hash": "52634da84371cba311ea128a5ea7cdc41ff074b781779e754b270ff9f8153cee"
  },
  "kernelspec": {
   "display_name": "Python 3.8.7 64-bit (system)",
   "language": "python",
   "name": "python3"
  },
  "language_info": {
   "codemirror_mode": {
    "name": "ipython",
    "version": 3
   },
   "file_extension": ".py",
   "mimetype": "text/x-python",
   "name": "python",
   "nbconvert_exporter": "python",
   "pygments_lexer": "ipython3",
   "version": "3.8.7"
  },
  "orig_nbformat": 4
 },
 "nbformat": 4,
 "nbformat_minor": 2
}
