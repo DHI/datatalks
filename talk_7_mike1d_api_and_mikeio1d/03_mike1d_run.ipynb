{
 "cells": [
  {
   "cell_type": "markdown",
   "metadata": {},
   "source": [
    "## Run the model using DHI.Mike1D.Application.exe"
   ]
  },
  {
   "cell_type": "code",
   "execution_count": null,
   "metadata": {},
   "outputs": [],
   "source": [
    "mike1d_application = r'C:\\Programs\\DHI\\MIKE+\\2023\\bin\\x64\\DHI.Mike1D.Application.exe'\n",
    "setup_path = 'exercise1/exercise1.mupp'\n",
    "gui_argument = '-gui'"
   ]
  },
  {
   "cell_type": "markdown",
   "metadata": {},
   "source": [
    "### Run with no script"
   ]
  },
  {
   "cell_type": "code",
   "execution_count": null,
   "metadata": {},
   "outputs": [],
   "source": [
    "mike1d_no_script = f'{mike1d_application} {setup_path} {gui_argument}'\n",
    "!{mike1d_no_script}\n",
    "!{'copy exercise1\\Exercise1BaseHD.res1d exercise1\\Exercise1BaseHDNoScript.res1d'}"
   ]
  },
  {
   "cell_type": "markdown",
   "metadata": {},
   "source": [
    "### Run with script"
   ]
  },
  {
   "cell_type": "code",
   "execution_count": null,
   "metadata": {},
   "outputs": [],
   "source": [
    "script_argument = '-script=MyScript.cs'\n",
    "mike1d_script = f'{mike1d_application} {setup_path} {gui_argument} {script_argument}'\n",
    "!{mike1d_script}\n",
    "!{'copy exercise1\\Exercise1BaseHD.res1d exercise1\\Exercise1BaseHDScript.res1d'}"
   ]
  },
  {
   "cell_type": "markdown",
   "metadata": {},
   "source": [
    "### Plot discharge with mikeio1d"
   ]
  },
  {
   "cell_type": "code",
   "execution_count": null,
   "metadata": {},
   "outputs": [],
   "source": [
    "import mikeio1d\n",
    "import pandas as pd\n",
    "from matplotlib import pyplot as plt\n",
    "plt.style.use('default')"
   ]
  },
  {
   "cell_type": "code",
   "execution_count": null,
   "metadata": {},
   "outputs": [],
   "source": [
    "res1d_no_script = mikeio1d.Res1D('exercise1\\Exercise1BaseHDNoScript.res1d')\n",
    "res1d_script = mikeio1d.Res1D('exercise1\\Exercise1BaseHDScript.res1d')"
   ]
  },
  {
   "cell_type": "code",
   "execution_count": null,
   "metadata": {},
   "outputs": [],
   "source": [
    "df_no_script = res1d_no_script.read_all()\n",
    "df_script = res1d_script.read_all()"
   ]
  },
  {
   "cell_type": "code",
   "execution_count": null,
   "metadata": {},
   "outputs": [],
   "source": [
    "ax = df_no_script['Discharge:SquareChannel:5000'].plot()\n",
    "ax = df_script['Discharge:SquareChannel:5000'].plot()\n",
    "ax.set_xlabel('Time')\n",
    "ax.set_ylabel('Discharge [m$^3$/s]')\n",
    "plt.show()"
   ]
  }
 ],
 "metadata": {
  "interpreter": {
   "hash": "52634da84371cba311ea128a5ea7cdc41ff074b781779e754b270ff9f8153cee"
  },
  "kernelspec": {
   "display_name": "Python 3.8.7 64-bit (system)",
   "language": "python",
   "name": "python3"
  },
  "language_info": {
   "codemirror_mode": {
    "name": "ipython",
    "version": 3
   },
   "file_extension": ".py",
   "mimetype": "text/x-python",
   "name": "python",
   "nbconvert_exporter": "python",
   "pygments_lexer": "ipython3",
   "version": "3.8.7"
  },
  "orig_nbformat": 4
 },
 "nbformat": 4,
 "nbformat_minor": 2
}
