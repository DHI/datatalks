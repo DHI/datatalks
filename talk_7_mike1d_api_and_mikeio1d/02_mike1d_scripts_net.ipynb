{
 "cells": [
  {
   "cell_type": "markdown",
   "metadata": {},
   "source": [
    "## Setup modification exercise\n",
    "* Replace broad crested weir with Honma weir\n",
    "* Change crest width during simulation"
   ]
  },
  {
   "cell_type": "markdown",
   "metadata": {},
   "source": [
    "### Retrieve Mike1D nuget packages"
   ]
  },
  {
   "cell_type": "code",
   "execution_count": null,
   "metadata": {
    "dotnet_interactive": {
     "language": "csharp"
    },
    "vscode": {
     "languageId": "dotnet-interactive.csharp"
    }
   },
   "outputs": [],
   "source": [
    "#r nuget:DHI.Mike.Install\n",
    "// #r nuget:DHI.Mike1D.BoundaryModule\n",
    "// #r nuget:DHI.Mike1D.ControlModule\n",
    "// #r nuget:DHI.Mike1D.CrossSectionModule\n",
    "// #r nuget:DHI.Mike1D.DataAssimilationModule\n",
    "#r nuget:DHI.Mike1D.Engine\n",
    "// #r nuget:DHI.Mike1D.FloodMap\n",
    "#r nuget:DHI.Mike1D.Generic\n",
    "// #r nuget:DHI.Mike1D.HDParameterDataAccess\n",
    "#r nuget:DHI.Mike1D.Mike1DDataAccess\n",
    "#r nuget:DHI.Mike1D.NetworkDataAccess\n",
    "// #r nuget:DHI.Mike1D.RainfallRunoffModule\n",
    "// #r nuget:DHI.Mike1D.ResultDataAccess\n",
    "// #r nuget:DHI.Mike1D.SimLauncher\n",
    "#r nuget:DHI.Mike1D.StructureModule"
   ]
  },
  {
   "cell_type": "markdown",
   "metadata": {},
   "source": [
    "### Import the relevant libraries"
   ]
  },
  {
   "cell_type": "code",
   "execution_count": null,
   "metadata": {
    "dotnet_interactive": {
     "language": "csharp"
    },
    "vscode": {
     "languageId": "dotnet-interactive.csharp"
    }
   },
   "outputs": [],
   "source": [
    "using System.Linq;\n",
    "using DHI.Mike.Install;\n",
    "using DHI.Mike1D.Engine;\n",
    "using DHI.Mike1D.Generic;\n",
    "using DHI.Mike1D.Mike1DDataAccess;\n",
    "using DHI.Mike1D.Plugins;\n",
    "using DHI.Mike1D.StructureModule;"
   ]
  },
  {
   "cell_type": "markdown",
   "metadata": {},
   "source": [
    "### Setup an installation, which will be used to run MIKE 1D"
   ]
  },
  {
   "cell_type": "code",
   "execution_count": null,
   "metadata": {
    "dotnet_interactive": {
     "language": "csharp"
    },
    "vscode": {
     "languageId": "dotnet-interactive.csharp"
    }
   },
   "outputs": [],
   "source": [
    "if (MikeImport.SetupLatest())\n",
    "{\n",
    "  var product = MikeImport.ActiveProduct();\n",
    "  Console.WriteLine(product.InstallRoot);\n",
    "}"
   ]
  },
  {
   "cell_type": "markdown",
   "metadata": {},
   "source": [
    "### Specify the initial script body"
   ]
  },
  {
   "cell_type": "code",
   "execution_count": null,
   "metadata": {
    "dotnet_interactive": {
     "language": "csharp"
    },
    "vscode": {
     "languageId": "dotnet-interactive.csharp"
    }
   },
   "outputs": [],
   "source": [
    "public class MyScript\n",
    "{\n",
    "  private IStructures _structures;\n",
    "  private EngineNet _engineNet;\n",
    "\n",
    "  private string _weirId = \"Weir\";\n",
    "  private int _weirIndex;\n",
    "  private double _crestWidthInitial;\n",
    "\n",
    "  /// <summary> Method to modify MIKE 1D data. </summary>\n",
    "  [Script]\n",
    "  public void Initialize(Mike1DData mike1DData)\n",
    "  {\n",
    "    _structures = mike1DData.Network.StructureCollection.Structures;\n",
    "\n",
    "    Console.WriteLine(\"Removing the weir\");\n",
    "    _weirIndex = _structures.FindIndex(x => x.ID == _weirId);\n",
    "    var bcWeir = (BroadCrestedWeir)_structures[_weirIndex];\n",
    "    _structures.RemoveAt(_weirIndex);\n",
    "\n",
    "    Console.WriteLine(\"Creating Honma weir\");\n",
    "    var honmaWeir = CreateHonmaWeir(bcWeir);\n",
    "\n",
    "    Console.WriteLine(\"Adding Honma weir to network\");\n",
    "    _structures.Add(honmaWeir);\n",
    "  }\n",
    "\n",
    "  private HonmaWeir CreateHonmaWeir(BroadCrestedWeir bcWeir)\n",
    "  {\n",
    "    _crestWidthInitial = bcWeir.WeirGeometry.LevelWidths[0].Width;\n",
    "\n",
    "    var honmaWeir = new HonmaWeir\n",
    "    {\n",
    "      ID = bcWeir.ID,\n",
    "      Location = bcWeir.Location,\n",
    "      CrestWidth = _crestWidthInitial,\n",
    "      CrestLevel = bcWeir.InvertLevelUpstream,\n",
    "      WeirCoefficient = 1.0,\n",
    "    };\n",
    "\n",
    "    return honmaWeir;\n",
    "  }\n",
    "\n",
    "  /// <summary> Method to modify the controller. </summary>\n",
    "  [Script]\n",
    "  public void ModifyController(IMike1DController controller)\n",
    "  {\n",
    "    controller.ControllerEvent += ControllerOnControllerEvent;\n",
    "  }\n",
    "\n",
    "  private void ControllerOnControllerEvent(object sender, ControllerEventArgs e)\n",
    "  {\n",
    "    if (e.State != ControllerState.Running)\n",
    "      return;\n",
    "\n",
    "    var controller = (IMike1DController)sender;\n",
    "\n",
    "    _engineNet = controller.EngineNet;\n",
    "    _engineNet.PreTimeStepEvent += PreTimeStepEvent;\n",
    "  }\n",
    "\n",
    "  private void PreTimeStepEvent(DateTime timeN, DateTime timeNp1, int redoCount)\n",
    "  {\n",
    "    var honmaWeir = (HonmaWeir)_structures[_weirIndex];\n",
    "    honmaWeir.CrestWidth = _crestWidthInitial * (1.0 - timeN.Minute/600.0);\n",
    "    Console.WriteLine(\"Time: \" + _engineNet.EngineTime.TimeNp1 + \" Width: \" + honmaWeir.CrestWidth);\n",
    "  }\n",
    "}\n"
   ]
  },
  {
   "cell_type": "markdown",
   "metadata": {},
   "source": [
    "### Load the setup and test the script code"
   ]
  },
  {
   "cell_type": "code",
   "execution_count": null,
   "metadata": {
    "dotnet_interactive": {
     "language": "csharp"
    },
    "vscode": {
     "languageId": "dotnet-interactive.csharp"
    }
   },
   "outputs": [],
   "source": [
    "string inputFileName = @\".\\exercise1\\exercise1.m1dx\";\n",
    "var myScript = new MyScript();"
   ]
  },
  {
   "cell_type": "code",
   "execution_count": null,
   "metadata": {
    "dotnet_interactive": {
     "language": "csharp"
    },
    "vscode": {
     "languageId": "dotnet-interactive.csharp"
    }
   },
   "outputs": [],
   "source": [
    "var mike1DData = Mike1DData.Create(inputFileName);\n",
    "myScript.Initialize(mike1DData);"
   ]
  }
 ],
 "metadata": {
  "interpreter": {
   "hash": "52634da84371cba311ea128a5ea7cdc41ff074b781779e754b270ff9f8153cee"
  },
  "kernelspec": {
   "display_name": ".NET (C#)",
   "language": "C#",
   "name": ".net-csharp"
  },
  "language_info": {
   "file_extension": ".cs",
   "mimetype": "text/x-csharp",
   "name": "C#",
   "pygments_lexer": "csharp",
   "version": "9.0"
  },
  "orig_nbformat": 4
 },
 "nbformat": 4,
 "nbformat_minor": 2
}
