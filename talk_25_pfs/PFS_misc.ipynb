{
 "cells": [
  {
   "cell_type": "code",
   "execution_count": 1,
   "metadata": {},
   "outputs": [],
   "source": [
    "import mikeio\n",
    "from io import StringIO"
   ]
  },
  {
   "cell_type": "code",
   "execution_count": 2,
   "metadata": {},
   "outputs": [],
   "source": [
    "txt = \"\"\"[TARGET1]\n",
    "   keywordA = parameterA\n",
    "   [SECTION1]\n",
    "      keywordB = parameterB\n",
    "      keywordC = parameterC\n",
    "      [SECTION2]\n",
    "         keywordD = parameterD         \n",
    "      EndSect  // SECTION2 \n",
    "   EndSect  // SECTION1 \n",
    "EndSect  // TARGET1\n",
    "\n",
    "[TARGET2]\n",
    "   keywordE = parameterE \n",
    "   [SECTION3]\n",
    "      keywordF = parameterF\n",
    "   EndSect  // SECTION3 \n",
    "EndSect  // TARGET2\n",
    "\"\"\""
   ]
  },
  {
   "cell_type": "code",
   "execution_count": 4,
   "metadata": {},
   "outputs": [
    {
     "data": {
      "text/plain": [
       "[TARGET1]\n",
       "   keywordA = 'parameterA'\n",
       "   [SECTION1]\n",
       "      keywordB = 'parameterB'\n",
       "      keywordC = 'parameterC'\n",
       "      [SECTION2]\n",
       "         keywordD = 'parameterD'\n",
       "      EndSect  // SECTION2\n",
       "   EndSect  // SECTION1\n",
       "EndSect  // TARGET1\n",
       "[TARGET2]\n",
       "   keywordE = 'parameterE'\n",
       "   [SECTION3]\n",
       "      keywordF = 'parameterF'\n",
       "   EndSect  // SECTION3\n",
       "EndSect  // TARGET2"
      ]
     },
     "execution_count": 4,
     "metadata": {},
     "output_type": "execute_result"
    }
   ],
   "source": [
    "pfs = mikeio.PfsDocument(StringIO(txt))\n",
    "pfs"
   ]
  },
  {
   "cell_type": "code",
   "execution_count": null,
   "metadata": {},
   "outputs": [],
   "source": []
  }
 ],
 "metadata": {
  "kernelspec": {
   "display_name": "base",
   "language": "python",
   "name": "python3"
  },
  "language_info": {
   "codemirror_mode": {
    "name": "ipython",
    "version": 3
   },
   "file_extension": ".py",
   "mimetype": "text/x-python",
   "name": "python",
   "nbconvert_exporter": "python",
   "pygments_lexer": "ipython3",
   "version": "3.10.12"
  }
 },
 "nbformat": 4,
 "nbformat_minor": 2
}
